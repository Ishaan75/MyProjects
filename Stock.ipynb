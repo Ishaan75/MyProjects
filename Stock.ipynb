{
  "nbformat": 4,
  "nbformat_minor": 0,
  "metadata": {
    "kernelspec": {
      "display_name": "Python 3",
      "language": "python",
      "name": "python3"
    },
    "language_info": {
      "codemirror_mode": {
        "name": "ipython",
        "version": 3
      },
      "file_extension": ".py",
      "mimetype": "text/x-python",
      "name": "python",
      "nbconvert_exporter": "python",
      "pygments_lexer": "ipython3",
      "version": "3.6.9"
    },
    "colab": {
      "name": "Stock.ipynb",
      "provenance": [],
      "include_colab_link": true
    }
  },
  "cells": [
    {
      "cell_type": "markdown",
      "metadata": {
        "id": "view-in-github",
        "colab_type": "text"
      },
      "source": [
        "<a href=\"https://colab.research.google.com/github/Ishaan75/MyProjects/blob/main/Stock.ipynb\" target=\"_parent\"><img src=\"https://colab.research.google.com/assets/colab-badge.svg\" alt=\"Open In Colab\"/></a>"
      ]
    },
    {
      "cell_type": "markdown",
      "metadata": {
        "id": "l6v6_2KjPmVG"
      },
      "source": [
        "### Stock Market Prediction And Forecasting Using Stacked LSTM"
      ]
    },
    {
      "cell_type": "code",
      "metadata": {
        "id": "eCPZ66_EPmVP"
      },
      "source": [
        "### Keras and Tensorflow >2.0"
      ],
      "execution_count": null,
      "outputs": []
    },
    {
      "cell_type": "code",
      "metadata": {
        "id": "pgxS1PaGPmVR"
      },
      "source": [
        "### Data Collection\n",
        "import pandas_datareader as pdr\n",
        "# the key which I have downloaded from tiingo's api\n",
        "key=\"5b3223fecc98daab6ddf09ef0d9001f378d0651e\""
      ],
      "execution_count": null,
      "outputs": []
    },
    {
      "cell_type": "code",
      "metadata": {
        "id": "sqAHRe18PmVS"
      },
      "source": [
        "# now i can get the Apple stock price data\n",
        "df = pdr.get_data_tiingo('AAPL', api_key=key)"
      ],
      "execution_count": null,
      "outputs": []
    },
    {
      "cell_type": "code",
      "metadata": {
        "id": "Icgiv64WPmVT"
      },
      "source": [
        "df.to_csv('AAPL.csv')"
      ],
      "execution_count": null,
      "outputs": []
    },
    {
      "cell_type": "code",
      "metadata": {
        "id": "kOGMzwCHPmVT"
      },
      "source": [
        "import pandas as pd"
      ],
      "execution_count": null,
      "outputs": []
    },
    {
      "cell_type": "code",
      "metadata": {
        "id": "3Xee8ayNPmVU"
      },
      "source": [
        "df=pd.read_csv('AAPL.csv')"
      ],
      "execution_count": null,
      "outputs": []
    },
    {
      "cell_type": "code",
      "metadata": {
        "colab": {
          "base_uri": "https://localhost:8080/",
          "height": 203
        },
        "id": "Dkg9SWE2PmVV",
        "outputId": "53f80ed5-5ac1-4bbd-f3ae-3acb5eb6096f"
      },
      "source": [
        "df.head()"
      ],
      "execution_count": null,
      "outputs": [
        {
          "output_type": "execute_result",
          "data": {
            "text/html": [
              "<div>\n",
              "<style scoped>\n",
              "    .dataframe tbody tr th:only-of-type {\n",
              "        vertical-align: middle;\n",
              "    }\n",
              "\n",
              "    .dataframe tbody tr th {\n",
              "        vertical-align: top;\n",
              "    }\n",
              "\n",
              "    .dataframe thead th {\n",
              "        text-align: right;\n",
              "    }\n",
              "</style>\n",
              "<table border=\"1\" class=\"dataframe\">\n",
              "  <thead>\n",
              "    <tr style=\"text-align: right;\">\n",
              "      <th></th>\n",
              "      <th>symbol</th>\n",
              "      <th>date</th>\n",
              "      <th>close</th>\n",
              "      <th>high</th>\n",
              "      <th>low</th>\n",
              "      <th>open</th>\n",
              "      <th>volume</th>\n",
              "      <th>adjClose</th>\n",
              "      <th>adjHigh</th>\n",
              "      <th>adjLow</th>\n",
              "      <th>adjOpen</th>\n",
              "      <th>adjVolume</th>\n",
              "      <th>divCash</th>\n",
              "      <th>splitFactor</th>\n",
              "    </tr>\n",
              "  </thead>\n",
              "  <tbody>\n",
              "    <tr>\n",
              "      <th>0</th>\n",
              "      <td>AAPL</td>\n",
              "      <td>2016-07-19 00:00:00+00:00</td>\n",
              "      <td>99.87</td>\n",
              "      <td>100.00</td>\n",
              "      <td>99.340</td>\n",
              "      <td>99.56</td>\n",
              "      <td>23779924</td>\n",
              "      <td>23.320988</td>\n",
              "      <td>23.351345</td>\n",
              "      <td>23.197226</td>\n",
              "      <td>23.248599</td>\n",
              "      <td>95119696</td>\n",
              "      <td>0.0</td>\n",
              "      <td>1.0</td>\n",
              "    </tr>\n",
              "    <tr>\n",
              "      <th>1</th>\n",
              "      <td>AAPL</td>\n",
              "      <td>2016-07-20 00:00:00+00:00</td>\n",
              "      <td>99.96</td>\n",
              "      <td>100.46</td>\n",
              "      <td>99.735</td>\n",
              "      <td>100.00</td>\n",
              "      <td>26275968</td>\n",
              "      <td>23.342004</td>\n",
              "      <td>23.458761</td>\n",
              "      <td>23.289464</td>\n",
              "      <td>23.351345</td>\n",
              "      <td>105103872</td>\n",
              "      <td>0.0</td>\n",
              "      <td>1.0</td>\n",
              "    </tr>\n",
              "    <tr>\n",
              "      <th>2</th>\n",
              "      <td>AAPL</td>\n",
              "      <td>2016-07-21 00:00:00+00:00</td>\n",
              "      <td>99.43</td>\n",
              "      <td>101.00</td>\n",
              "      <td>99.130</td>\n",
              "      <td>99.83</td>\n",
              "      <td>32702028</td>\n",
              "      <td>23.218242</td>\n",
              "      <td>23.584858</td>\n",
              "      <td>23.148188</td>\n",
              "      <td>23.311648</td>\n",
              "      <td>130808112</td>\n",
              "      <td>0.0</td>\n",
              "      <td>1.0</td>\n",
              "    </tr>\n",
              "    <tr>\n",
              "      <th>3</th>\n",
              "      <td>AAPL</td>\n",
              "      <td>2016-07-22 00:00:00+00:00</td>\n",
              "      <td>98.66</td>\n",
              "      <td>99.30</td>\n",
              "      <td>98.310</td>\n",
              "      <td>99.26</td>\n",
              "      <td>28313669</td>\n",
              "      <td>23.038437</td>\n",
              "      <td>23.187885</td>\n",
              "      <td>22.956707</td>\n",
              "      <td>23.178545</td>\n",
              "      <td>113254676</td>\n",
              "      <td>0.0</td>\n",
              "      <td>1.0</td>\n",
              "    </tr>\n",
              "    <tr>\n",
              "      <th>4</th>\n",
              "      <td>AAPL</td>\n",
              "      <td>2016-07-25 00:00:00+00:00</td>\n",
              "      <td>97.34</td>\n",
              "      <td>98.84</td>\n",
              "      <td>96.920</td>\n",
              "      <td>98.25</td>\n",
              "      <td>40382921</td>\n",
              "      <td>22.730199</td>\n",
              "      <td>23.080469</td>\n",
              "      <td>22.632123</td>\n",
              "      <td>22.942696</td>\n",
              "      <td>161531684</td>\n",
              "      <td>0.0</td>\n",
              "      <td>1.0</td>\n",
              "    </tr>\n",
              "  </tbody>\n",
              "</table>\n",
              "</div>"
            ],
            "text/plain": [
              "  symbol                       date  close  ...  adjVolume  divCash  splitFactor\n",
              "0   AAPL  2016-07-19 00:00:00+00:00  99.87  ...   95119696      0.0          1.0\n",
              "1   AAPL  2016-07-20 00:00:00+00:00  99.96  ...  105103872      0.0          1.0\n",
              "2   AAPL  2016-07-21 00:00:00+00:00  99.43  ...  130808112      0.0          1.0\n",
              "3   AAPL  2016-07-22 00:00:00+00:00  98.66  ...  113254676      0.0          1.0\n",
              "4   AAPL  2016-07-25 00:00:00+00:00  97.34  ...  161531684      0.0          1.0\n",
              "\n",
              "[5 rows x 14 columns]"
            ]
          },
          "metadata": {
            "tags": []
          },
          "execution_count": 10
        }
      ]
    },
    {
      "cell_type": "code",
      "metadata": {
        "colab": {
          "base_uri": "https://localhost:8080/",
          "height": 203
        },
        "id": "-bbBQajrPmVZ",
        "outputId": "b39fb1c2-2132-4c1f-c38f-51b03378caa1"
      },
      "source": [
        "df.tail()"
      ],
      "execution_count": null,
      "outputs": [
        {
          "output_type": "execute_result",
          "data": {
            "text/html": [
              "<div>\n",
              "<style scoped>\n",
              "    .dataframe tbody tr th:only-of-type {\n",
              "        vertical-align: middle;\n",
              "    }\n",
              "\n",
              "    .dataframe tbody tr th {\n",
              "        vertical-align: top;\n",
              "    }\n",
              "\n",
              "    .dataframe thead th {\n",
              "        text-align: right;\n",
              "    }\n",
              "</style>\n",
              "<table border=\"1\" class=\"dataframe\">\n",
              "  <thead>\n",
              "    <tr style=\"text-align: right;\">\n",
              "      <th></th>\n",
              "      <th>symbol</th>\n",
              "      <th>date</th>\n",
              "      <th>close</th>\n",
              "      <th>high</th>\n",
              "      <th>low</th>\n",
              "      <th>open</th>\n",
              "      <th>volume</th>\n",
              "      <th>adjClose</th>\n",
              "      <th>adjHigh</th>\n",
              "      <th>adjLow</th>\n",
              "      <th>adjOpen</th>\n",
              "      <th>adjVolume</th>\n",
              "      <th>divCash</th>\n",
              "      <th>splitFactor</th>\n",
              "    </tr>\n",
              "  </thead>\n",
              "  <tbody>\n",
              "    <tr>\n",
              "      <th>1253</th>\n",
              "      <td>AAPL</td>\n",
              "      <td>2021-07-12 00:00:00+00:00</td>\n",
              "      <td>144.50</td>\n",
              "      <td>146.32</td>\n",
              "      <td>144.00</td>\n",
              "      <td>146.21</td>\n",
              "      <td>76299719</td>\n",
              "      <td>144.50</td>\n",
              "      <td>146.32</td>\n",
              "      <td>144.00</td>\n",
              "      <td>146.21</td>\n",
              "      <td>76299719</td>\n",
              "      <td>0.0</td>\n",
              "      <td>1.0</td>\n",
              "    </tr>\n",
              "    <tr>\n",
              "      <th>1254</th>\n",
              "      <td>AAPL</td>\n",
              "      <td>2021-07-13 00:00:00+00:00</td>\n",
              "      <td>145.64</td>\n",
              "      <td>147.46</td>\n",
              "      <td>143.63</td>\n",
              "      <td>144.03</td>\n",
              "      <td>100827099</td>\n",
              "      <td>145.64</td>\n",
              "      <td>147.46</td>\n",
              "      <td>143.63</td>\n",
              "      <td>144.03</td>\n",
              "      <td>100827099</td>\n",
              "      <td>0.0</td>\n",
              "      <td>1.0</td>\n",
              "    </tr>\n",
              "    <tr>\n",
              "      <th>1255</th>\n",
              "      <td>AAPL</td>\n",
              "      <td>2021-07-14 00:00:00+00:00</td>\n",
              "      <td>149.15</td>\n",
              "      <td>149.57</td>\n",
              "      <td>147.68</td>\n",
              "      <td>148.10</td>\n",
              "      <td>127050785</td>\n",
              "      <td>149.15</td>\n",
              "      <td>149.57</td>\n",
              "      <td>147.68</td>\n",
              "      <td>148.10</td>\n",
              "      <td>127050785</td>\n",
              "      <td>0.0</td>\n",
              "      <td>1.0</td>\n",
              "    </tr>\n",
              "    <tr>\n",
              "      <th>1256</th>\n",
              "      <td>AAPL</td>\n",
              "      <td>2021-07-15 00:00:00+00:00</td>\n",
              "      <td>148.48</td>\n",
              "      <td>150.00</td>\n",
              "      <td>147.09</td>\n",
              "      <td>149.24</td>\n",
              "      <td>106820297</td>\n",
              "      <td>148.48</td>\n",
              "      <td>150.00</td>\n",
              "      <td>147.09</td>\n",
              "      <td>149.24</td>\n",
              "      <td>106820297</td>\n",
              "      <td>0.0</td>\n",
              "      <td>1.0</td>\n",
              "    </tr>\n",
              "    <tr>\n",
              "      <th>1257</th>\n",
              "      <td>AAPL</td>\n",
              "      <td>2021-07-16 00:00:00+00:00</td>\n",
              "      <td>146.39</td>\n",
              "      <td>149.76</td>\n",
              "      <td>145.88</td>\n",
              "      <td>148.46</td>\n",
              "      <td>93251426</td>\n",
              "      <td>146.39</td>\n",
              "      <td>149.76</td>\n",
              "      <td>145.88</td>\n",
              "      <td>148.46</td>\n",
              "      <td>93251426</td>\n",
              "      <td>0.0</td>\n",
              "      <td>1.0</td>\n",
              "    </tr>\n",
              "  </tbody>\n",
              "</table>\n",
              "</div>"
            ],
            "text/plain": [
              "     symbol                       date   close  ...  adjVolume  divCash  splitFactor\n",
              "1253   AAPL  2021-07-12 00:00:00+00:00  144.50  ...   76299719      0.0          1.0\n",
              "1254   AAPL  2021-07-13 00:00:00+00:00  145.64  ...  100827099      0.0          1.0\n",
              "1255   AAPL  2021-07-14 00:00:00+00:00  149.15  ...  127050785      0.0          1.0\n",
              "1256   AAPL  2021-07-15 00:00:00+00:00  148.48  ...  106820297      0.0          1.0\n",
              "1257   AAPL  2021-07-16 00:00:00+00:00  146.39  ...   93251426      0.0          1.0\n",
              "\n",
              "[5 rows x 14 columns]"
            ]
          },
          "metadata": {
            "tags": []
          },
          "execution_count": 11
        }
      ]
    },
    {
      "cell_type": "code",
      "metadata": {
        "id": "O7d-jU2pPmVc"
      },
      "source": [
        "df1=df.reset_index()['close']"
      ],
      "execution_count": null,
      "outputs": []
    },
    {
      "cell_type": "code",
      "metadata": {
        "colab": {
          "base_uri": "https://localhost:8080/"
        },
        "id": "MbJVQXM7PmVd",
        "outputId": "0407ccf0-df5b-4aae-9555-6aea1cb9de20"
      },
      "source": [
        "df1"
      ],
      "execution_count": null,
      "outputs": [
        {
          "output_type": "execute_result",
          "data": {
            "text/plain": [
              "0        99.87\n",
              "1        99.96\n",
              "2        99.43\n",
              "3        98.66\n",
              "4        97.34\n",
              "         ...  \n",
              "1253    144.50\n",
              "1254    145.64\n",
              "1255    149.15\n",
              "1256    148.48\n",
              "1257    146.39\n",
              "Name: close, Length: 1258, dtype: float64"
            ]
          },
          "metadata": {
            "tags": []
          },
          "execution_count": 13
        }
      ]
    },
    {
      "cell_type": "code",
      "metadata": {
        "colab": {
          "base_uri": "https://localhost:8080/",
          "height": 282
        },
        "id": "zYYFgHQfPmVe",
        "outputId": "1dc5b910-541d-4c24-e76e-68ce2c80ec61"
      },
      "source": [
        "import matplotlib.pyplot as plt\n",
        "plt.plot(df1)"
      ],
      "execution_count": null,
      "outputs": [
        {
          "output_type": "execute_result",
          "data": {
            "text/plain": [
              "[<matplotlib.lines.Line2D at 0x7fe2d0944210>]"
            ]
          },
          "metadata": {
            "tags": []
          },
          "execution_count": 14
        },
        {
          "output_type": "display_data",
          "data": {
            "image/png": "[encoded data removed]",
            "text/plain": [
              "<Figure size 432x288 with 1 Axes>"
            ]
          },
          "metadata": {
            "tags": [],
            "needs_background": "light"
          }
        }
      ]
    },
    {
      "cell_type": "code",
      "metadata": {
        "id": "neqa9aCYPmVg"
      },
      "source": [
        "### LSTM are sensitive to the scale of the data. so we apply MinMax scaler "
      ],
      "execution_count": null,
      "outputs": []
    },
    {
      "cell_type": "code",
      "metadata": {
        "id": "AMWI5zOGPmVg"
      },
      "source": [
        "import numpy as np"
      ],
      "execution_count": null,
      "outputs": []
    },
    {
      "cell_type": "code",
      "metadata": {
        "colab": {
          "base_uri": "https://localhost:8080/"
        },
        "id": "eC7ROZPJPmVh",
        "outputId": "3159cfd5-1b01-4980-ed89-b8ddef924ead"
      },
      "source": [
        "df1"
      ],
      "execution_count": null,
      "outputs": [
        {
          "output_type": "execute_result",
          "data": {
            "text/plain": [
              "0        99.87\n",
              "1        99.96\n",
              "2        99.43\n",
              "3        98.66\n",
              "4        97.34\n",
              "         ...  \n",
              "1253    144.50\n",
              "1254    145.64\n",
              "1255    149.15\n",
              "1256    148.48\n",
              "1257    146.39\n",
              "Name: close, Length: 1258, dtype: float64"
            ]
          },
          "metadata": {
            "tags": []
          },
          "execution_count": 17
        }
      ]
    },
    {
      "cell_type": "code",
      "metadata": {
        "id": "olP7-Si1PmVh"
      },
      "source": [
        "from sklearn.preprocessing import MinMaxScaler\n",
        "scaler=MinMaxScaler(feature_range=(0,1))\n",
        "df1=scaler.fit_transform(np.array(df1).reshape(-1,1))"
      ],
      "execution_count": null,
      "outputs": []
    },
    {
      "cell_type": "code",
      "metadata": {
        "colab": {
          "base_uri": "https://localhost:8080/"
        },
        "id": "s8loCuPjPmVi",
        "outputId": "4e76aade-0f52-4f3e-8ac7-6ce2291660ce"
      },
      "source": [
        "print(df1)"
      ],
      "execution_count": null,
      "outputs": [
        {
          "output_type": "stream",
          "text": [
            "[[0.00781593]\n",
            " [0.00803576]\n",
            " [0.00674124]\n",
            " ...\n",
            " [0.12818133]\n",
            " [0.12654487]\n",
            " [0.12144009]]\n"
          ],
          "name": "stdout"
        }
      ]
    },
    {
      "cell_type": "code",
      "metadata": {
        "id": "0tgTUkY-PmVj"
      },
      "source": [
        "##splitting dataset into train and test split\n",
        "training_size=int(len(df1)*0.65)\n",
        "test_size=len(df1)-training_size\n",
        "train_data,test_data=df1[0:training_size,:],df1[training_size:len(df1),:1]"
      ],
      "execution_count": null,
      "outputs": []
    },
    {
      "cell_type": "code",
      "metadata": {
        "colab": {
          "base_uri": "https://localhost:8080/"
        },
        "id": "WJcFnfODPmVj",
        "outputId": "eb6beb01-5116-4fd1-8c1a-8dbb034ad61e"
      },
      "source": [
        "training_size,test_size"
      ],
      "execution_count": null,
      "outputs": [
        {
          "output_type": "execute_result",
          "data": {
            "text/plain": [
              "(817, 441)"
            ]
          },
          "metadata": {
            "tags": []
          },
          "execution_count": 21
        }
      ]
    },
    {
      "cell_type": "code",
      "metadata": {
        "colab": {
          "base_uri": "https://localhost:8080/"
        },
        "id": "aLRkCFo9PmVk",
        "outputId": "3222e176-eb98-431d-cc7d-ad8e4cc3f0ab"
      },
      "source": [
        "train_data"
      ],
      "execution_count": null,
      "outputs": [
        {
          "output_type": "execute_result",
          "data": {
            "text/plain": [
              "array([[0.00781593],\n",
              "       [0.00803576],\n",
              "       [0.00674124],\n",
              "       [0.00486053],\n",
              "       [0.00163646],\n",
              "       [0.        ],\n",
              "       [0.01533877],\n",
              "       [0.01873382],\n",
              "       [0.0184163 ],\n",
              "       [0.02291046],\n",
              "       [0.01907577],\n",
              "       [0.02227541],\n",
              "       [0.02247081],\n",
              "       [0.0264032 ],\n",
              "       [0.02857701],\n",
              "       [0.0296517 ],\n",
              "       [0.02767329],\n",
              "       [0.02750232],\n",
              "       [0.02811294],\n",
              "       [0.03128816],\n",
              "       [0.03104392],\n",
              "       [0.03065312],\n",
              "       [0.03031117],\n",
              "       [0.03099507],\n",
              "       [0.02891896],\n",
              "       [0.0297494 ],\n",
              "       [0.02774657],\n",
              "       [0.02662303],\n",
              "       [0.02508427],\n",
              "       [0.02479117],\n",
              "       [0.02278833],\n",
              "       [0.02303258],\n",
              "       [0.02457134],\n",
              "       [0.02701382],\n",
              "       [0.02694055],\n",
              "       [0.02855259],\n",
              "       [0.02161594],\n",
              "       [0.01577842],\n",
              "       [0.02142055],\n",
              "       [0.02755117],\n",
              "       [0.03688144],\n",
              "       [0.04616286],\n",
              "       [0.04457525],\n",
              "       [0.04130233],\n",
              "       [0.04127791],\n",
              "       [0.04122906],\n",
              "       [0.04384251],\n",
              "       [0.03917737],\n",
              "       [0.03959259],\n",
              "       [0.04010552],\n",
              "       [0.04220605],\n",
              "       [0.03788286],\n",
              "       [0.04000782],\n",
              "       [0.0387133 ],\n",
              "       [0.03988569],\n",
              "       [0.04000782],\n",
              "       [0.0420595 ],\n",
              "       [0.04247472],\n",
              "       [0.04733525],\n",
              "       [0.04794587],\n",
              "       [0.05048605],\n",
              "       [0.04960676],\n",
              "       [0.05119437],\n",
              "       [0.05099897],\n",
              "       [0.05080358],\n",
              "       [0.04994871],\n",
              "       [0.04980216],\n",
              "       [0.04867862],\n",
              "       [0.05124322],\n",
              "       [0.05270871],\n",
              "       [0.04621171],\n",
              "       [0.04350056],\n",
              "       [0.04164428],\n",
              "       [0.04120463],\n",
              "       [0.03619755],\n",
              "       [0.0364418 ],\n",
              "       [0.03214303],\n",
              "       [0.02972498],\n",
              "       [0.03355967],\n",
              "       [0.03514728],\n",
              "       [0.03470764],\n",
              "       [0.02716037],\n",
              "       [0.02872356],\n",
              "       [0.02208002],\n",
              "       [0.02549949],\n",
              "       [0.03253383],\n",
              "       [0.03243613],\n",
              "       [0.0327048 ],\n",
              "       [0.03678374],\n",
              "       [0.03695472],\n",
              "       [0.0355625 ],\n",
              "       [0.03693029],\n",
              "       [0.03639295],\n",
              "       [0.03612427],\n",
              "       [0.03382834],\n",
              "       [0.03131259],\n",
              "       [0.03231401],\n",
              "       [0.03038445],\n",
              "       [0.03243613],\n",
              "       [0.03507401],\n",
              "       [0.03773631],\n",
              "       [0.04220605],\n",
              "       [0.04061844],\n",
              "       [0.04523472],\n",
              "       [0.04523472],\n",
              "       [0.04677348],\n",
              "       [0.04713986],\n",
              "       [0.04877632],\n",
              "       [0.04953349],\n",
              "       [0.04980216],\n",
              "       [0.04792145],\n",
              "       [0.04848322],\n",
              "       [0.05029066],\n",
              "       [0.04906942],\n",
              "       [0.04899614],\n",
              "       [0.04677348],\n",
              "       [0.0475795 ],\n",
              "       [0.04726198],\n",
              "       [0.04870304],\n",
              "       [0.05187827],\n",
              "       [0.05451614],\n",
              "       [0.05480924],\n",
              "       [0.05637243],\n",
              "       [0.05515119],\n",
              "       [0.05463827],\n",
              "       [0.05698305],\n",
              "       [0.05695862],\n",
              "       [0.0564457 ],\n",
              "       [0.05698305],\n",
              "       [0.05717845],\n",
              "       [0.05690977],\n",
              "       [0.06157491],\n",
              "       [0.06172146],\n",
              "       [0.06174588],\n",
              "       [0.06096429],\n",
              "       [0.0602804 ],\n",
              "       [0.07835475],\n",
              "       [0.0778174 ],\n",
              "       [0.07916076],\n",
              "       [0.08211616],\n",
              "       [0.08514484],\n",
              "       [0.0863905 ],\n",
              "       [0.08731865],\n",
              "       [0.0865859 ],\n",
              "       [0.0894436 ],\n",
              "       [0.09366909],\n",
              "       [0.09486591],\n",
              "       [0.0944629 ],\n",
              "       [0.09537883],\n",
              "       [0.09777246],\n",
              "       [0.09877388],\n",
              "       [0.09735724],\n",
              "       [0.09767476],\n",
              "       [0.09833423],\n",
              "       [0.09848078],\n",
              "       [0.10531972],\n",
              "       [0.10329246],\n",
              "       [0.1052953 ],\n",
              "       [0.1042206 ],\n",
              "       [0.10466025],\n",
              "       [0.10339016],\n",
              "       [0.10260857],\n",
              "       [0.10373211],\n",
              "       [0.10387866],\n",
              "       [0.10336574],\n",
              "       [0.10695618],\n",
              "       [0.10751795],\n",
              "       [0.10580822],\n",
              "       [0.10939866],\n",
              "       [0.10544184],\n",
              "       [0.10930096],\n",
              "       [0.10807972],\n",
              "       [0.10739583],\n",
              "       [0.10798202],\n",
              "       [0.11511406],\n",
              "       [0.11589566],\n",
              "       [0.11543159],\n",
              "       [0.11477212],\n",
              "       [0.11486982],\n",
              "       [0.11748327],\n",
              "       [0.11565141],\n",
              "       [0.11477212],\n",
              "       [0.11399052],\n",
              "       [0.1135753 ],\n",
              "       [0.10981388],\n",
              "       [0.1102291 ],\n",
              "       [0.10839724],\n",
              "       [0.11030238],\n",
              "       [0.10876362],\n",
              "       [0.10749353],\n",
              "       [0.11179229],\n",
              "       [0.11137707],\n",
              "       [0.11472327],\n",
              "       [0.11689707],\n",
              "       [0.11482097],\n",
              "       [0.11508964],\n",
              "       [0.11474769],\n",
              "       [0.12190416],\n",
              "       [0.12417566],\n",
              "       [0.12307655],\n",
              "       [0.12178203],\n",
              "       [0.12771726],\n",
              "       [0.1376093 ],\n",
              "       [0.14000293],\n",
              "       [0.13821992],\n",
              "       [0.13990523],\n",
              "       [0.14515656],\n",
              "       [0.14417957],\n",
              "       [0.1436178 ],\n",
              "       [0.13086806],\n",
              "       [0.13646134],\n",
              "       [0.13773142],\n",
              "       [0.14000293],\n",
              "       [0.13953886],\n",
              "       [0.13841532],\n",
              "       [0.13970983],\n",
              "       [0.13907479],\n",
              "       [0.13922134],\n",
              "       [0.13699868],\n",
              "       [0.13802452],\n",
              "       [0.14356895],\n",
              "       [0.13985638],\n",
              "       [0.14112647],\n",
              "       [0.14337355],\n",
              "       [0.14244541],\n",
              "       [0.12776611],\n",
              "       [0.11907088],\n",
              "       [0.12192858],\n",
              "       [0.11843584],\n",
              "       [0.11631088],\n",
              "       [0.11137707],\n",
              "       [0.12131796],\n",
              "       [0.11806946],\n",
              "       [0.12017   ],\n",
              "       [0.1195838 ],\n",
              "       [0.12117141],\n",
              "       [0.12004787],\n",
              "       [0.11494309],\n",
              "       [0.1200723 ],\n",
              "       [0.11482097],\n",
              "       [0.11565141],\n",
              "       [0.11438132],\n",
              "       [0.11582238],\n",
              "       [0.11250061],\n",
              "       [0.11604221],\n",
              "       [0.11819159],\n",
              "       [0.11933955],\n",
              "       [0.11985247],\n",
              "       [0.12481071],\n",
              "       [0.12791266],\n",
              "       [0.12918275],\n",
              "       [0.13045284],\n",
              "       [0.13274877],\n",
              "       [0.13108788],\n",
              "       [0.13091691],\n",
              "       [0.13536222],\n",
              "       [0.13694983],\n",
              "       [0.13870842],\n",
              "       [0.13162523],\n",
              "       [0.1290362 ],\n",
              "       [0.12715549],\n",
              "       [0.13037956],\n",
              "       [0.14769674],\n",
              "       [0.14386205],\n",
              "       [0.14586488],\n",
              "       [0.15177568],\n",
              "       [0.15487763],\n",
              "       [0.15727126],\n",
              "       [0.14325143],\n",
              "       [0.14852718],\n",
              "       [0.15431586],\n",
              "       [0.1585902 ],\n",
              "       [0.15700259],\n",
              "       [0.14945533],\n",
              "       [0.14857603],\n",
              "       [0.14786772],\n",
              "       [0.15414489],\n",
              "       [0.15463338],\n",
              "       [0.15289922],\n",
              "       [0.15434029],\n",
              "       [0.15827268],\n",
              "       [0.16178985],\n",
              "       [0.16286454],\n",
              "       [0.16445215],\n",
              "       [0.16457428],\n",
              "       [0.15976259],\n",
              "       [0.15934737],\n",
              "       [0.15775976],\n",
              "       [0.15133604],\n",
              "       [0.15834595],\n",
              "       [0.15678277],\n",
              "       [0.15382737],\n",
              "       [0.15048117],\n",
              "       [0.15438914],\n",
              "       [0.15143374],\n",
              "       [0.15158028],\n",
              "       [0.14508329],\n",
              "       [0.13853744],\n",
              "       [0.13487372],\n",
              "       [0.1316008 ],\n",
              "       [0.13792682],\n",
              "       [0.14058913],\n",
              "       [0.13826877],\n",
              "       [0.14032045],\n",
              "       [0.13956328],\n",
              "       [0.14119975],\n",
              "       [0.13875727],\n",
              "       [0.1434224 ],\n",
              "       [0.14320258],\n",
              "       [0.14452152],\n",
              "       [0.14466807],\n",
              "       [0.14625568],\n",
              "       [0.14491231],\n",
              "       [0.14733037],\n",
              "       [0.15438914],\n",
              "       [0.1558302 ],\n",
              "       [0.15409604],\n",
              "       [0.14486347],\n",
              "       [0.14552293],\n",
              "       [0.14532754],\n",
              "       [0.14759904],\n",
              "       [0.14591373],\n",
              "       [0.14835621],\n",
              "       [0.1621318 ],\n",
              "       [0.1710957 ],\n",
              "       [0.17676225],\n",
              "       [0.17151092],\n",
              "       [0.17449074],\n",
              "       [0.18521323],\n",
              "       [0.18948757],\n",
              "       [0.19085536],\n",
              "       [0.1943481 ],\n",
              "       [0.19346881],\n",
              "       [0.19051341],\n",
              "       [0.18880367],\n",
              "       [0.18237995],\n",
              "       [0.17685995],\n",
              "       [0.18179376],\n",
              "       [0.1794734 ],\n",
              "       [0.17905818],\n",
              "       [0.18677642],\n",
              "       [0.19122173],\n",
              "       [0.19124615],\n",
              "       [0.18909677],\n",
              "       [0.18660544],\n",
              "       [0.17783694],\n",
              "       [0.18362562],\n",
              "       [0.18167163],\n",
              "       [0.17861853],\n",
              "       [0.17822774],\n",
              "       [0.17668897],\n",
              "       [0.17744614],\n",
              "       [0.17756827],\n",
              "       [0.18562845],\n",
              "       [0.18325924],\n",
              "       [0.18465146],\n",
              "       [0.18452933],\n",
              "       [0.18880367],\n",
              "       [0.19478775],\n",
              "       [0.19019589],\n",
              "       [0.18973182],\n",
              "       [0.19134385],\n",
              "       [0.19134385],\n",
              "       [0.18049924],\n",
              "       [0.18057252],\n",
              "       [0.18174491],\n",
              "       [0.17722632],\n",
              "       [0.18462703],\n",
              "       [0.18455376],\n",
              "       [0.18650774],\n",
              "       [0.19131943],\n",
              "       [0.18973182],\n",
              "       [0.18968297],\n",
              "       [0.18958527],\n",
              "       [0.19200332],\n",
              "       [0.19642421],\n",
              "       [0.19422598],\n",
              "       [0.20133359],\n",
              "       [0.20172439],\n",
              "       [0.19977041],\n",
              "       [0.19620439],\n",
              "       [0.19630209],\n",
              "       [0.18941429],\n",
              "       [0.18181818],\n",
              "       [0.18279517],\n",
              "       [0.17412437],\n",
              "       [0.17170632],\n",
              "       [0.17282986],\n",
              "       [0.17368472],\n",
              "       [0.15590347],\n",
              "       [0.14610913],\n",
              "       [0.16208295],\n",
              "       [0.15355869],\n",
              "       [0.14283621],\n",
              "       [0.14591373],\n",
              "       [0.16130135],\n",
              "       [0.16528259],\n",
              "       [0.17268331],\n",
              "       [0.18641004],\n",
              "       [0.18504225],\n",
              "       [0.18362562],\n",
              "       [0.18172048],\n",
              "       [0.18521323],\n",
              "       [0.19254067],\n",
              "       [0.20101607],\n",
              "       [0.19959943],\n",
              "       [0.19893996],\n",
              "       [0.19131943],\n",
              "       [0.19427483],\n",
              "       [0.19576474],\n",
              "       [0.19539837],\n",
              "       [0.1913927 ],\n",
              "       [0.19605784],\n",
              "       [0.20348298],\n",
              "       [0.20773289],\n",
              "       [0.20345855],\n",
              "       [0.19972156],\n",
              "       [0.20023448],\n",
              "       [0.19869572],\n",
              "       [0.19205217],\n",
              "       [0.19190562],\n",
              "       [0.18220898],\n",
              "       [0.17629818],\n",
              "       [0.16674808],\n",
              "       [0.1858727 ],\n",
              "       [0.17505251],\n",
              "       [0.1705095 ],\n",
              "       [0.17368472],\n",
              "       [0.170998  ],\n",
              "       [0.17517464],\n",
              "       [0.18303942],\n",
              "       [0.18594597],\n",
              "       [0.17515021],\n",
              "       [0.17922915],\n",
              "       [0.18704509],\n",
              "       [0.18506668],\n",
              "       [0.1892189 ],\n",
              "       [0.19065996],\n",
              "       [0.19332226],\n",
              "       [0.19923306],\n",
              "       [0.19825607],\n",
              "       [0.18594597],\n",
              "       [0.16865322],\n",
              "       [0.16748083],\n",
              "       [0.16186312],\n",
              "       [0.16359728],\n",
              "       [0.1649895 ],\n",
              "       [0.16034879],\n",
              "       [0.16752968],\n",
              "       [0.1769088 ],\n",
              "       [0.19515412],\n",
              "       [0.19593571],\n",
              "       [0.21288652],\n",
              "       [0.21613502],\n",
              "       [0.21830883],\n",
              "       [0.22150848],\n",
              "       [0.22805432],\n",
              "       [0.22451273],\n",
              "       [0.22343803],\n",
              "       [0.21926139],\n",
              "       [0.22351131],\n",
              "       [0.22060476],\n",
              "       [0.21894387],\n",
              "       [0.22216794],\n",
              "       [0.22101998],\n",
              "       [0.22395096],\n",
              "       [0.22343803],\n",
              "       [0.2244883 ],\n",
              "       [0.22282741],\n",
              "       [0.22185042],\n",
              "       [0.22031166],\n",
              "       [0.22854282],\n",
              "       [0.23242636],\n",
              "       [0.23604123],\n",
              "       [0.23767769],\n",
              "       [0.2364076 ],\n",
              "       [0.23210884],\n",
              "       [0.23096087],\n",
              "       [0.23352548],\n",
              "       [0.22966636],\n",
              "       [0.22991061],\n",
              "       [0.22512335],\n",
              "       [0.2248791 ],\n",
              "       [0.21742953],\n",
              "       [0.21940794],\n",
              "       [0.21686776],\n",
              "       [0.21554883],\n",
              "       [0.20883201],\n",
              "       [0.21435201],\n",
              "       [0.21369254],\n",
              "       [0.21696546],\n",
              "       [0.2160129 ],\n",
              "       [0.22106883],\n",
              "       [0.21310635],\n",
              "       [0.21672122],\n",
              "       [0.22299839],\n",
              "       [0.22937326],\n",
              "       [0.22881149],\n",
              "       [0.22277856],\n",
              "       [0.23047238],\n",
              "       [0.23120512],\n",
              "       [0.23017928],\n",
              "       [0.23149822],\n",
              "       [0.22893361],\n",
              "       [0.23254848],\n",
              "       [0.23147379],\n",
              "       [0.23188901],\n",
              "       [0.23528406],\n",
              "       [0.23972937],\n",
              "       [0.23823946],\n",
              "       [0.23035025],\n",
              "       [0.2277368 ],\n",
              "       [0.22866494],\n",
              "       [0.25604514],\n",
              "       [0.27043134],\n",
              "       [0.27189683],\n",
              "       [0.27453471],\n",
              "       [0.26974745],\n",
              "       [0.27008939],\n",
              "       [0.27407064],\n",
              "       [0.27077329],\n",
              "       [0.27404621],\n",
              "       [0.27619559],\n",
              "       [0.27739241],\n",
              "       [0.28491525],\n",
              "       [0.29532021],\n",
              "       [0.29014215],\n",
              "       [0.28911631],\n",
              "       [0.28914074],\n",
              "       [0.29021543],\n",
              "       [0.29185189],\n",
              "       [0.2961995 ],\n",
              "       [0.30049827],\n",
              "       [0.3085096 ],\n",
              "       [0.31351668],\n",
              "       [0.31986713],\n",
              "       [0.32165014],\n",
              "       [0.31801084],\n",
              "       [0.3088027 ],\n",
              "       [0.30440623],\n",
              "       [0.29715207],\n",
              "       [0.31063456],\n",
              "       [0.30384446],\n",
              "       [0.3168873 ],\n",
              "       [0.31061013],\n",
              "       [0.29605295],\n",
              "       [0.29693225],\n",
              "       [0.29724977],\n",
              "       [0.30130428],\n",
              "       [0.29551561],\n",
              "       [0.30316057],\n",
              "       [0.30658004],\n",
              "       [0.30225685],\n",
              "       [0.31332128],\n",
              "       [0.31525084],\n",
              "       [0.31896341],\n",
              "       [0.32389722],\n",
              "       [0.33071174],\n",
              "       [0.32074642],\n",
              "       [0.31170925],\n",
              "       [0.31043916],\n",
              "       [0.31801084],\n",
              "       [0.29234038],\n",
              "       [0.28767525],\n",
              "       [0.30638464],\n",
              "       [0.29478286],\n",
              "       [0.30648234],\n",
              "       [0.30413756],\n",
              "       [0.29150994],\n",
              "       [0.2995457 ],\n",
              "       [0.30281862],\n",
              "       [0.30789898],\n",
              "       [0.28923843],\n",
              "       [0.30074251],\n",
              "       [0.29219384],\n",
              "       [0.28227737],\n",
              "       [0.2848664 ],\n",
              "       [0.29844658],\n",
              "       [0.30665331],\n",
              "       [0.27065117],\n",
              "       [0.25626496],\n",
              "       [0.26158957],\n",
              "       [0.27668409],\n",
              "       [0.27311807],\n",
              "       [0.2632993 ],\n",
              "       [0.23814176],\n",
              "       [0.23340335],\n",
              "       [0.22014069],\n",
              "       [0.23140052],\n",
              "       [0.23657857],\n",
              "       [0.21784476],\n",
              "       [0.19615554],\n",
              "       [0.19566704],\n",
              "       [0.18470031],\n",
              "       [0.19039129],\n",
              "       [0.18946314],\n",
              "       [0.20582776],\n",
              "       [0.20243271],\n",
              "       [0.2000635 ],\n",
              "       [0.21530458],\n",
              "       [0.19544722],\n",
              "       [0.19063553],\n",
              "       [0.17541889],\n",
              "       [0.17813004],\n",
              "       [0.17576083],\n",
              "       [0.1769088 ],\n",
              "       [0.18142739],\n",
              "       [0.16806702],\n",
              "       [0.1643056 ],\n",
              "       [0.16950808],\n",
              "       [0.15685604],\n",
              "       [0.14693957],\n",
              "       [0.13204045],\n",
              "       [0.12251478],\n",
              "       [0.14777002],\n",
              "       [0.14527869],\n",
              "       [0.14547409],\n",
              "       [0.14916223],\n",
              "       [0.14960188],\n",
              "       [0.11118167],\n",
              "       [0.12600752],\n",
              "       [0.1252015 ],\n",
              "       [0.1320893 ],\n",
              "       [0.13834204],\n",
              "       [0.13953886],\n",
              "       [0.13585072],\n",
              "       [0.13025744],\n",
              "       [0.13775585],\n",
              "       [0.14232329],\n",
              "       [0.14457037],\n",
              "       [0.14691515],\n",
              "       [0.13831762],\n",
              "       [0.13983196],\n",
              "       [0.13685213],\n",
              "       [0.14921108],\n",
              "       [0.14564506],\n",
              "       [0.14168824],\n",
              "       [0.16750525],\n",
              "       [0.1704118 ],\n",
              "       [0.1706072 ],\n",
              "       [0.18216013],\n",
              "       [0.18931659],\n",
              "       [0.18946314],\n",
              "       [0.18140296],\n",
              "       [0.18010845],\n",
              "       [0.17771482],\n",
              "       [0.18128084],\n",
              "       [0.17954668],\n",
              "       [0.18106101],\n",
              "       [0.18013287],\n",
              "       [0.18137854],\n",
              "       [0.18406526],\n",
              "       [0.18169606],\n",
              "       [0.18636119],\n",
              "       [0.18943872],\n",
              "       [0.18968297],\n",
              "       [0.19100191],\n",
              "       [0.18680084],\n",
              "       [0.19124615],\n",
              "       [0.19339554],\n",
              "       [0.19261394],\n",
              "       [0.19014704],\n",
              "       [0.18521323],\n",
              "       [0.18621465],\n",
              "       [0.2008451 ],\n",
              "       [0.20575448],\n",
              "       [0.20770847],\n",
              "       [0.21264227],\n",
              "       [0.2184798 ],\n",
              "       [0.22312051],\n",
              "       [0.21948122],\n",
              "       [0.22346246],\n",
              "       [0.24038884],\n",
              "       [0.23052123],\n",
              "       [0.2248791 ],\n",
              "       [0.22011626],\n",
              "       [0.22421963],\n",
              "       [0.22483025],\n",
              "       [0.2278345 ],\n",
              "       [0.2309853 ],\n",
              "       [0.23777539],\n",
              "       [0.24102389],\n",
              "       [0.24185433],\n",
              "       [0.24505398],\n",
              "       [0.25262567],\n",
              "       [0.25116018],\n",
              "       [0.25389575],\n",
              "       [0.24981681],\n",
              "       [0.24962142],\n",
              "       [0.25050071],\n",
              "       [0.25054956],\n",
              "       [0.26002638],\n",
              "       [0.26180939],\n",
              "       [0.26344585],\n",
              "       [0.27065117],\n",
              "       [0.26986957],\n",
              "       [0.26527771],\n",
              "       [0.26288408],\n",
              "       [0.26364125],\n",
              "       [0.25401788],\n",
              "       [0.2780763 ],\n",
              "       [0.27473011],\n",
              "       [0.28108055],\n",
              "       [0.27309364],\n",
              "       [0.25936691],\n",
              "       [0.25946461],\n",
              "       [0.25414   ],\n",
              "       [0.24549363],\n",
              "       [0.21750281],\n",
              "       [0.2246837 ],\n",
              "       [0.2302037 ],\n",
              "       [0.22815202],\n",
              "       [0.22551414],\n",
              "       [0.21107909],\n",
              "       [0.21965219],\n",
              "       [0.21032192],\n",
              "       [0.20270138],\n",
              "       [0.20101607],\n",
              "       [0.19920864],\n",
              "       [0.19713253],\n",
              "       [0.19937961],\n",
              "       [0.1914904 ],\n",
              "       [0.18716721],\n",
              "       [0.20265253],\n",
              "       [0.20973572],\n",
              "       [0.21628157],\n",
              "       [0.22832299],\n",
              "       [0.23425822],\n",
              "       [0.23970495],\n",
              "       [0.23819061],\n",
              "       [0.23809291],\n",
              "       [0.23464902],\n",
              "       [0.23745787],\n",
              "       [0.24859557],\n",
              "       [0.24717894],\n",
              "       [0.25106248],\n",
              "       [0.24940159],\n",
              "       [0.2489131 ],\n",
              "       [0.24156123],\n",
              "       [0.25189292],\n",
              "       [0.25174637],\n",
              "       [0.24730106],\n",
              "       [0.25616726],\n",
              "       [0.25904939],\n",
              "       [0.26315275],\n",
              "       [0.26271311],\n",
              "       [0.25243027],\n",
              "       [0.25541009],\n",
              "       [0.26027063],\n",
              "       [0.25665576],\n",
              "       [0.2604416 ],\n",
              "       [0.26510674],\n",
              "       [0.26337258],\n",
              "       [0.26056372],\n",
              "       [0.26620585],\n",
              "       [0.25870744],\n",
              "       [0.27001612],\n",
              "       [0.27397294],\n",
              "       [0.27355772],\n",
              "       [0.26952762],\n",
              "       [0.27128621],\n",
              "       [0.27602462],\n",
              "       [0.27382639],\n",
              "       [0.28423135],\n",
              "       [0.27297152],\n",
              "       [0.26220019],\n",
              "       [0.2361145 ],\n",
              "       [0.24505398],\n",
              "       [0.25003664],\n",
              "       [0.26075912],\n",
              "       [0.25479947],\n",
              "       [0.25355381],\n",
              "       [0.27429046],\n",
              "       [0.25909824],\n",
              "       [0.25663133],\n",
              "       [0.26825754],\n",
              "       [0.27766108],\n",
              "       [0.27768551],\n",
              "       [0.28325436],\n",
              "       [0.28281471],\n",
              "       [0.25882956],\n",
              "       [0.26823311],\n",
              "       [0.26254213],\n",
              "       [0.26588833],\n",
              "       [0.27438816],\n",
              "       [0.27372869],\n",
              "       [0.26630355],\n",
              "       [0.27482781],\n",
              "       [0.28481755],\n",
              "       [0.2847687 ],\n",
              "       [0.28699135],\n",
              "       [0.29317083],\n",
              "       [0.30999951],\n",
              "       [0.30877827],\n",
              "       [0.29817791],\n",
              "       [0.30098676],\n",
              "       [0.30294075],\n",
              "       [0.30799668],\n",
              "       [0.30357579],\n",
              "       [0.29568658],\n",
              "       [0.29810464],\n",
              "       [0.29556446],\n",
              "       [0.30374676],\n",
              "       [0.30096234],\n",
              "       [0.29834888],\n",
              "       [0.31092765],\n",
              "       [0.31244199],\n",
              "       [0.29869083],\n",
              "       [0.30323384],\n",
              "       [0.31835279],\n",
              "       [0.31847492],\n",
              "       [0.31197792],\n",
              "       [0.31840164],\n",
              "       [0.32587563],\n",
              "       [0.3408236 ],\n",
              "       [0.33999316],\n",
              "       [0.3386498 ]])"
            ]
          },
          "metadata": {
            "tags": []
          },
          "execution_count": 22
        }
      ]
    },
    {
      "cell_type": "code",
      "metadata": {
        "id": "SShgCXDRPmVl"
      },
      "source": [
        "import numpy\n",
        "# convert an array of values into a dataset matrix\n",
        "def create_dataset(dataset, time_step=1):\n",
        "\tdataX, dataY = [], []\n",
        "\tfor i in range(len(dataset)-time_step-1):\n",
        "\t\ta = dataset[i:(i+time_step), 0]   ###i=0, 0,1,2,3-----99   100 \n",
        "\t\tdataX.append(a)\n",
        "\t\tdataY.append(dataset[i + time_step, 0])\n",
        "\treturn numpy.array(dataX), numpy.array(dataY)"
      ],
      "execution_count": null,
      "outputs": []
    },
    {
      "cell_type": "code",
      "metadata": {
        "id": "0bUzrn7fPmVl"
      },
      "source": [
        "# reshape into X=t,t+1,t+2,t+3 and Y=t+4\n",
        "time_step = 100\n",
        "X_train, y_train = create_dataset(train_data, time_step)\n",
        "X_test, ytest = create_dataset(test_data, time_step)"
      ],
      "execution_count": null,
      "outputs": []
    },
    {
      "cell_type": "code",
      "metadata": {
        "colab": {
          "base_uri": "https://localhost:8080/"
        },
        "id": "7ZOM3iQ_PmVm",
        "outputId": "6d1608e2-7019-449c-d579-3a799d2645b3"
      },
      "source": [
        "print(X_train.shape), print(y_train.shape)"
      ],
      "execution_count": null,
      "outputs": [
        {
          "output_type": "stream",
          "text": [
            "(716, 100)\n",
            "(716,)\n"
          ],
          "name": "stdout"
        },
        {
          "output_type": "execute_result",
          "data": {
            "text/plain": [
              "(None, None)"
            ]
          },
          "metadata": {
            "tags": []
          },
          "execution_count": 25
        }
      ]
    },
    {
      "cell_type": "code",
      "metadata": {
        "colab": {
          "base_uri": "https://localhost:8080/"
        },
        "id": "6g50hpiiPmVn",
        "outputId": "94215b83-fafa-4568-e9c7-b3a405c739db"
      },
      "source": [
        "print(X_test.shape), print(ytest.shape)"
      ],
      "execution_count": null,
      "outputs": [
        {
          "output_type": "stream",
          "text": [
            "(340, 100)\n",
            "(340,)\n"
          ],
          "name": "stdout"
        },
        {
          "output_type": "execute_result",
          "data": {
            "text/plain": [
              "(None, None)"
            ]
          },
          "metadata": {
            "tags": []
          },
          "execution_count": 26
        }
      ]
    },
    {
      "cell_type": "code",
      "metadata": {
        "id": "zIQ8yEfIPmVo"
      },
      "source": [
        "# reshape input to be [samples, time steps, features] which is required for LSTM\n",
        "X_train =X_train.reshape(X_train.shape[0],X_train.shape[1] , 1)\n",
        "X_test = X_test.reshape(X_test.shape[0],X_test.shape[1] , 1)"
      ],
      "execution_count": null,
      "outputs": []
    },
    {
      "cell_type": "code",
      "metadata": {
        "id": "hzIy1ZLHPmVo"
      },
      "source": [
        "### Create the Stacked LSTM model\n",
        "from tensorflow.keras.models import Sequential\n",
        "from tensorflow.keras.layers import Dense\n",
        "from tensorflow.keras.layers import LSTM"
      ],
      "execution_count": null,
      "outputs": []
    },
    {
      "cell_type": "code",
      "metadata": {
        "id": "90lmrWNQPmVp"
      },
      "source": [
        "model=Sequential()\n",
        "model.add(LSTM(50,return_sequences=True,input_shape=(100,1))) # one lstm after the other\n",
        "model.add(LSTM(50,return_sequences=True))\n",
        "model.add(LSTM(50))\n",
        "model.add(Dense(1)) # output\n",
        "model.compile(loss='mean_squared_error',optimizer='adam')\n"
      ],
      "execution_count": null,
      "outputs": []
    },
    {
      "cell_type": "code",
      "metadata": {
        "colab": {
          "base_uri": "https://localhost:8080/"
        },
        "id": "RQcfzg41PmVq",
        "outputId": "eea7ceb0-e9ec-4178-c31a-7862c4459132"
      },
      "source": [
        "model.summary()"
      ],
      "execution_count": null,
      "outputs": [
        {
          "output_type": "stream",
          "text": [
            "Model: \"sequential\"\n",
            "_________________________________________________________________\n",
            "Layer (type)                 Output Shape              Param #   \n",
            "=================================================================\n",
            "lstm (LSTM)                  (None, 100, 50)           10400     \n",
            "_________________________________________________________________\n",
            "lstm_1 (LSTM)                (None, 100, 50)           20200     \n",
            "_________________________________________________________________\n",
            "lstm_2 (LSTM)                (None, 50)                20200     \n",
            "_________________________________________________________________\n",
            "dense (Dense)                (None, 1)                 51        \n",
            "=================================================================\n",
            "Total params: 50,851\n",
            "Trainable params: 50,851\n",
            "Non-trainable params: 0\n",
            "_________________________________________________________________\n"
          ],
          "name": "stdout"
        }
      ]
    },
    {
      "cell_type": "code",
      "metadata": {
        "colab": {
          "base_uri": "https://localhost:8080/"
        },
        "id": "lkEh4F2MPmVq",
        "outputId": "68d29d28-289a-44ae-c1c2-37ab25273250"
      },
      "source": [
        "model.summary()"
      ],
      "execution_count": null,
      "outputs": [
        {
          "output_type": "stream",
          "text": [
            "Model: \"sequential\"\n",
            "_________________________________________________________________\n",
            "Layer (type)                 Output Shape              Param #   \n",
            "=================================================================\n",
            "lstm (LSTM)                  (None, 100, 50)           10400     \n",
            "_________________________________________________________________\n",
            "lstm_1 (LSTM)                (None, 100, 50)           20200     \n",
            "_________________________________________________________________\n",
            "lstm_2 (LSTM)                (None, 50)                20200     \n",
            "_________________________________________________________________\n",
            "dense (Dense)                (None, 1)                 51        \n",
            "=================================================================\n",
            "Total params: 50,851\n",
            "Trainable params: 50,851\n",
            "Non-trainable params: 0\n",
            "_________________________________________________________________\n"
          ],
          "name": "stdout"
        }
      ]
    },
    {
      "cell_type": "code",
      "metadata": {
        "id": "9e8TSNwNPmVr"
      },
      "source": [
        ""
      ],
      "execution_count": null,
      "outputs": []
    },
    {
      "cell_type": "code",
      "metadata": {
        "colab": {
          "base_uri": "https://localhost:8080/"
        },
        "id": "hDHdBYyQPmVs",
        "outputId": "4ebf1b28-e175-4864-ea6c-fc99441362d5"
      },
      "source": [
        "model.fit(X_train,y_train,validation_data=(X_test,ytest),epochs=100,batch_size=64,verbose=1)"
      ],
      "execution_count": null,
      "outputs": [
        {
          "output_type": "stream",
          "text": [
            "Epoch 1/100\n",
            "12/12 [==============================] - 8s 287ms/step - loss: 0.0120 - val_loss: 0.0365\n",
            "Epoch 2/100\n",
            "12/12 [==============================] - 2s 189ms/step - loss: 0.0021 - val_loss: 0.0262\n",
            "Epoch 3/100\n",
            "12/12 [==============================] - 2s 185ms/step - loss: 0.0013 - val_loss: 0.0254\n",
            "Epoch 4/100\n",
            "12/12 [==============================] - 2s 182ms/step - loss: 7.6084e-04 - val_loss: 0.0207\n",
            "Epoch 5/100\n",
            "12/12 [==============================] - 2s 186ms/step - loss: 5.1342e-04 - val_loss: 0.0195\n",
            "Epoch 6/100\n",
            "12/12 [==============================] - 2s 187ms/step - loss: 4.4516e-04 - val_loss: 0.0197\n",
            "Epoch 7/100\n",
            "12/12 [==============================] - 2s 184ms/step - loss: 4.3639e-04 - val_loss: 0.0188\n",
            "Epoch 8/100\n",
            "12/12 [==============================] - 2s 183ms/step - loss: 4.0924e-04 - val_loss: 0.0187\n",
            "Epoch 9/100\n",
            "12/12 [==============================] - 2s 190ms/step - loss: 3.9313e-04 - val_loss: 0.0186\n",
            "Epoch 10/100\n",
            "12/12 [==============================] - 2s 182ms/step - loss: 3.7649e-04 - val_loss: 0.0181\n",
            "Epoch 11/100\n",
            "12/12 [==============================] - 2s 185ms/step - loss: 3.6171e-04 - val_loss: 0.0177\n",
            "Epoch 12/100\n",
            "12/12 [==============================] - 2s 184ms/step - loss: 3.5253e-04 - val_loss: 0.0171\n",
            "Epoch 13/100\n",
            "12/12 [==============================] - 2s 187ms/step - loss: 3.4133e-04 - val_loss: 0.0171\n",
            "Epoch 14/100\n",
            "12/12 [==============================] - 2s 185ms/step - loss: 3.3534e-04 - val_loss: 0.0170\n",
            "Epoch 15/100\n",
            "12/12 [==============================] - 2s 182ms/step - loss: 3.4302e-04 - val_loss: 0.0165\n",
            "Epoch 16/100\n",
            "12/12 [==============================] - 2s 184ms/step - loss: 3.1995e-04 - val_loss: 0.0158\n",
            "Epoch 17/100\n",
            "12/12 [==============================] - 2s 184ms/step - loss: 3.0040e-04 - val_loss: 0.0151\n",
            "Epoch 18/100\n",
            "12/12 [==============================] - 2s 185ms/step - loss: 3.0477e-04 - val_loss: 0.0154\n",
            "Epoch 19/100\n",
            "12/12 [==============================] - 2s 184ms/step - loss: 3.2201e-04 - val_loss: 0.0145\n",
            "Epoch 20/100\n",
            "12/12 [==============================] - 2s 186ms/step - loss: 3.0678e-04 - val_loss: 0.0146\n",
            "Epoch 21/100\n",
            "12/12 [==============================] - 2s 183ms/step - loss: 2.9318e-04 - val_loss: 0.0138\n",
            "Epoch 22/100\n",
            "12/12 [==============================] - 2s 185ms/step - loss: 2.6437e-04 - val_loss: 0.0137\n",
            "Epoch 23/100\n",
            "12/12 [==============================] - 2s 185ms/step - loss: 2.6286e-04 - val_loss: 0.0134\n",
            "Epoch 24/100\n",
            "12/12 [==============================] - 2s 183ms/step - loss: 2.9889e-04 - val_loss: 0.0137\n",
            "Epoch 25/100\n",
            "12/12 [==============================] - 2s 183ms/step - loss: 3.3751e-04 - val_loss: 0.0130\n",
            "Epoch 26/100\n",
            "12/12 [==============================] - 2s 185ms/step - loss: 2.8077e-04 - val_loss: 0.0127\n",
            "Epoch 27/100\n",
            "12/12 [==============================] - 2s 189ms/step - loss: 2.4898e-04 - val_loss: 0.0124\n",
            "Epoch 28/100\n",
            "12/12 [==============================] - 2s 185ms/step - loss: 2.7472e-04 - val_loss: 0.0123\n",
            "Epoch 29/100\n",
            "12/12 [==============================] - 2s 186ms/step - loss: 2.7814e-04 - val_loss: 0.0121\n",
            "Epoch 30/100\n",
            "12/12 [==============================] - 2s 184ms/step - loss: 2.5208e-04 - val_loss: 0.0119\n",
            "Epoch 31/100\n",
            "12/12 [==============================] - 2s 187ms/step - loss: 2.3766e-04 - val_loss: 0.0119\n",
            "Epoch 32/100\n",
            "12/12 [==============================] - 2s 187ms/step - loss: 2.4817e-04 - val_loss: 0.0117\n",
            "Epoch 33/100\n",
            "12/12 [==============================] - 2s 186ms/step - loss: 2.7127e-04 - val_loss: 0.0116\n",
            "Epoch 34/100\n",
            "12/12 [==============================] - 2s 184ms/step - loss: 2.3125e-04 - val_loss: 0.0114\n",
            "Epoch 35/100\n",
            "12/12 [==============================] - 2s 183ms/step - loss: 2.2121e-04 - val_loss: 0.0116\n",
            "Epoch 36/100\n",
            "12/12 [==============================] - 2s 186ms/step - loss: 2.2510e-04 - val_loss: 0.0120\n",
            "Epoch 37/100\n",
            "12/12 [==============================] - 2s 186ms/step - loss: 2.7176e-04 - val_loss: 0.0112\n",
            "Epoch 38/100\n",
            "12/12 [==============================] - 2s 185ms/step - loss: 2.2239e-04 - val_loss: 0.0119\n",
            "Epoch 39/100\n",
            "12/12 [==============================] - 2s 188ms/step - loss: 2.8442e-04 - val_loss: 0.0109\n",
            "Epoch 40/100\n",
            "12/12 [==============================] - 2s 185ms/step - loss: 2.4286e-04 - val_loss: 0.0112\n",
            "Epoch 41/100\n",
            "12/12 [==============================] - 2s 185ms/step - loss: 2.2158e-04 - val_loss: 0.0110\n",
            "Epoch 42/100\n",
            "12/12 [==============================] - 2s 188ms/step - loss: 2.1330e-04 - val_loss: 0.0109\n",
            "Epoch 43/100\n",
            "12/12 [==============================] - 2s 186ms/step - loss: 2.1065e-04 - val_loss: 0.0111\n",
            "Epoch 44/100\n",
            "12/12 [==============================] - 2s 188ms/step - loss: 2.1161e-04 - val_loss: 0.0111\n",
            "Epoch 45/100\n",
            "12/12 [==============================] - 2s 184ms/step - loss: 2.1559e-04 - val_loss: 0.0107\n",
            "Epoch 46/100\n",
            "12/12 [==============================] - 2s 189ms/step - loss: 2.2251e-04 - val_loss: 0.0110\n",
            "Epoch 47/100\n",
            "12/12 [==============================] - 2s 183ms/step - loss: 2.4340e-04 - val_loss: 0.0104\n",
            "Epoch 48/100\n",
            "12/12 [==============================] - 2s 183ms/step - loss: 2.4619e-04 - val_loss: 0.0105\n",
            "Epoch 49/100\n",
            "12/12 [==============================] - 2s 186ms/step - loss: 2.0796e-04 - val_loss: 0.0101\n",
            "Epoch 50/100\n",
            "12/12 [==============================] - 2s 183ms/step - loss: 2.0676e-04 - val_loss: 0.0104\n",
            "Epoch 51/100\n",
            "12/12 [==============================] - 2s 185ms/step - loss: 2.0332e-04 - val_loss: 0.0100\n",
            "Epoch 52/100\n",
            "12/12 [==============================] - 2s 181ms/step - loss: 1.9879e-04 - val_loss: 0.0103\n",
            "Epoch 53/100\n",
            "12/12 [==============================] - 2s 183ms/step - loss: 1.9730e-04 - val_loss: 0.0100\n",
            "Epoch 54/100\n",
            "12/12 [==============================] - 2s 180ms/step - loss: 2.0279e-04 - val_loss: 0.0102\n",
            "Epoch 55/100\n",
            "12/12 [==============================] - 2s 185ms/step - loss: 1.9313e-04 - val_loss: 0.0100\n",
            "Epoch 56/100\n",
            "12/12 [==============================] - 2s 191ms/step - loss: 1.8804e-04 - val_loss: 0.0098\n",
            "Epoch 57/100\n",
            "12/12 [==============================] - 2s 182ms/step - loss: 2.1722e-04 - val_loss: 0.0108\n",
            "Epoch 58/100\n",
            "12/12 [==============================] - 2s 181ms/step - loss: 2.4590e-04 - val_loss: 0.0095\n",
            "Epoch 59/100\n",
            "12/12 [==============================] - 2s 183ms/step - loss: 2.1655e-04 - val_loss: 0.0101\n",
            "Epoch 60/100\n",
            "12/12 [==============================] - 2s 185ms/step - loss: 2.1914e-04 - val_loss: 0.0093\n",
            "Epoch 61/100\n",
            "12/12 [==============================] - 2s 184ms/step - loss: 1.9120e-04 - val_loss: 0.0093\n",
            "Epoch 62/100\n",
            "12/12 [==============================] - 2s 187ms/step - loss: 1.9421e-04 - val_loss: 0.0092\n",
            "Epoch 63/100\n",
            "12/12 [==============================] - 2s 189ms/step - loss: 1.8571e-04 - val_loss: 0.0092\n",
            "Epoch 64/100\n",
            "12/12 [==============================] - 2s 189ms/step - loss: 1.8030e-04 - val_loss: 0.0091\n",
            "Epoch 65/100\n",
            "12/12 [==============================] - 2s 182ms/step - loss: 1.8031e-04 - val_loss: 0.0097\n",
            "Epoch 66/100\n",
            "12/12 [==============================] - 2s 183ms/step - loss: 1.9957e-04 - val_loss: 0.0090\n",
            "Epoch 67/100\n",
            "12/12 [==============================] - 2s 187ms/step - loss: 1.9226e-04 - val_loss: 0.0089\n",
            "Epoch 68/100\n",
            "12/12 [==============================] - 2s 186ms/step - loss: 1.7755e-04 - val_loss: 0.0089\n",
            "Epoch 69/100\n",
            "12/12 [==============================] - 2s 189ms/step - loss: 1.7343e-04 - val_loss: 0.0088\n",
            "Epoch 70/100\n",
            "12/12 [==============================] - 2s 183ms/step - loss: 1.8271e-04 - val_loss: 0.0088\n",
            "Epoch 71/100\n",
            "12/12 [==============================] - 2s 184ms/step - loss: 1.7572e-04 - val_loss: 0.0087\n",
            "Epoch 72/100\n",
            "12/12 [==============================] - 2s 185ms/step - loss: 1.7404e-04 - val_loss: 0.0089\n",
            "Epoch 73/100\n",
            "12/12 [==============================] - 2s 184ms/step - loss: 1.7118e-04 - val_loss: 0.0087\n",
            "Epoch 74/100\n",
            "12/12 [==============================] - 2s 184ms/step - loss: 1.7013e-04 - val_loss: 0.0088\n",
            "Epoch 75/100\n",
            "12/12 [==============================] - 2s 185ms/step - loss: 1.7589e-04 - val_loss: 0.0085\n",
            "Epoch 76/100\n",
            "12/12 [==============================] - 2s 193ms/step - loss: 1.6435e-04 - val_loss: 0.0084\n",
            "Epoch 77/100\n",
            "12/12 [==============================] - 2s 191ms/step - loss: 1.6348e-04 - val_loss: 0.0085\n",
            "Epoch 78/100\n",
            "12/12 [==============================] - 2s 186ms/step - loss: 1.7126e-04 - val_loss: 0.0083\n",
            "Epoch 79/100\n",
            "12/12 [==============================] - 2s 188ms/step - loss: 1.9838e-04 - val_loss: 0.0079\n",
            "Epoch 80/100\n",
            "12/12 [==============================] - 2s 188ms/step - loss: 1.5859e-04 - val_loss: 0.0079\n",
            "Epoch 81/100\n",
            "12/12 [==============================] - 2s 188ms/step - loss: 1.5651e-04 - val_loss: 0.0079\n",
            "Epoch 82/100\n",
            "12/12 [==============================] - 2s 186ms/step - loss: 1.7302e-04 - val_loss: 0.0080\n",
            "Epoch 83/100\n",
            "12/12 [==============================] - 2s 185ms/step - loss: 1.5667e-04 - val_loss: 0.0079\n",
            "Epoch 84/100\n",
            "12/12 [==============================] - 2s 185ms/step - loss: 1.6035e-04 - val_loss: 0.0083\n",
            "Epoch 85/100\n",
            "12/12 [==============================] - 2s 188ms/step - loss: 1.6595e-04 - val_loss: 0.0077\n",
            "Epoch 86/100\n",
            "12/12 [==============================] - 2s 190ms/step - loss: 1.5070e-04 - val_loss: 0.0077\n",
            "Epoch 87/100\n",
            "12/12 [==============================] - 2s 185ms/step - loss: 1.6482e-04 - val_loss: 0.0079\n",
            "Epoch 88/100\n",
            "12/12 [==============================] - 2s 186ms/step - loss: 1.6224e-04 - val_loss: 0.0082\n",
            "Epoch 89/100\n",
            "12/12 [==============================] - 2s 185ms/step - loss: 1.9298e-04 - val_loss: 0.0076\n",
            "Epoch 90/100\n",
            "12/12 [==============================] - 2s 185ms/step - loss: 1.6683e-04 - val_loss: 0.0075\n",
            "Epoch 91/100\n",
            "12/12 [==============================] - 2s 183ms/step - loss: 1.7409e-04 - val_loss: 0.0076\n",
            "Epoch 92/100\n",
            "12/12 [==============================] - 2s 186ms/step - loss: 1.4476e-04 - val_loss: 0.0078\n",
            "Epoch 93/100\n",
            "12/12 [==============================] - 2s 188ms/step - loss: 1.7227e-04 - val_loss: 0.0074\n",
            "Epoch 94/100\n",
            "12/12 [==============================] - 2s 186ms/step - loss: 1.4127e-04 - val_loss: 0.0074\n",
            "Epoch 95/100\n",
            "12/12 [==============================] - 2s 190ms/step - loss: 1.4374e-04 - val_loss: 0.0073\n",
            "Epoch 96/100\n",
            "12/12 [==============================] - 2s 193ms/step - loss: 1.3973e-04 - val_loss: 0.0073\n",
            "Epoch 97/100\n",
            "12/12 [==============================] - 2s 192ms/step - loss: 1.4533e-04 - val_loss: 0.0074\n",
            "Epoch 98/100\n",
            "12/12 [==============================] - 2s 189ms/step - loss: 1.3821e-04 - val_loss: 0.0071\n",
            "Epoch 99/100\n",
            "12/12 [==============================] - 2s 187ms/step - loss: 1.3136e-04 - val_loss: 0.0072\n",
            "Epoch 100/100\n",
            "12/12 [==============================] - 2s 189ms/step - loss: 1.4237e-04 - val_loss: 0.0073\n"
          ],
          "name": "stdout"
        },
        {
          "output_type": "execute_result",
          "data": {
            "text/plain": [
              "<tensorflow.python.keras.callbacks.History at 0x7fe2c12a3f90>"
            ]
          },
          "metadata": {
            "tags": []
          },
          "execution_count": 32
        }
      ]
    },
    {
      "cell_type": "code",
      "metadata": {
        "id": "Zb5gzFlZPmVu"
      },
      "source": [
        "import tensorflow as tf"
      ],
      "execution_count": null,
      "outputs": []
    },
    {
      "cell_type": "code",
      "metadata": {
        "colab": {
          "base_uri": "https://localhost:8080/",
          "height": 35
        },
        "id": "B2rOaDOsPmVw",
        "outputId": "bc36ac2a-8895-439e-e112-4b6aaf948a93"
      },
      "source": [
        "tf.__version__"
      ],
      "execution_count": null,
      "outputs": [
        {
          "output_type": "execute_result",
          "data": {
            "application/vnd.google.colaboratory.intrinsic+json": {
              "type": "string"
            },
            "text/plain": [
              "'2.5.0'"
            ]
          },
          "metadata": {
            "tags": []
          },
          "execution_count": 34
        }
      ]
    },
    {
      "cell_type": "code",
      "metadata": {
        "id": "SHQgJ8fuPmVw"
      },
      "source": [
        "### Lets Do the prediction and check performance metrics\n",
        "train_predict=model.predict(X_train)\n",
        "test_predict=model.predict(X_test)"
      ],
      "execution_count": null,
      "outputs": []
    },
    {
      "cell_type": "code",
      "metadata": {
        "id": "2mdryycoPmVx"
      },
      "source": [
        "##Transformback to original form\n",
        "train_predict=scaler.inverse_transform(train_predict)\n",
        "test_predict=scaler.inverse_transform(test_predict)"
      ],
      "execution_count": null,
      "outputs": []
    },
    {
      "cell_type": "code",
      "metadata": {
        "colab": {
          "base_uri": "https://localhost:8080/"
        },
        "id": "l-qZ-1J6PmVx",
        "outputId": "c791a272-ae95-457e-dee8-b480aaeac0b7"
      },
      "source": [
        "### Calculate RMSE performance metrics\n",
        "import math\n",
        "from sklearn.metrics import mean_squared_error\n",
        "math.sqrt(mean_squared_error(y_train,train_predict))"
      ],
      "execution_count": null,
      "outputs": [
        {
          "output_type": "execute_result",
          "data": {
            "text/plain": [
              "175.39187468092592"
            ]
          },
          "metadata": {
            "tags": []
          },
          "execution_count": 37
        }
      ]
    },
    {
      "cell_type": "code",
      "metadata": {
        "colab": {
          "base_uri": "https://localhost:8080/"
        },
        "id": "mMCvFsfcPmVy",
        "outputId": "fa9b6514-fa23-48e3-830f-9ac4ef277cf3"
      },
      "source": [
        "### Test Data RMSE\n",
        "math.sqrt(mean_squared_error(ytest,test_predict))"
      ],
      "execution_count": null,
      "outputs": [
        {
          "output_type": "execute_result",
          "data": {
            "text/plain": [
              "226.2916168708799"
            ]
          },
          "metadata": {
            "tags": []
          },
          "execution_count": 38
        }
      ]
    },
    {
      "cell_type": "code",
      "metadata": {
        "colab": {
          "base_uri": "https://localhost:8080/",
          "height": 265
        },
        "id": "33gqHUWlPmVz",
        "outputId": "f9b30811-1e95-4543-d0b9-c14c1096ee58"
      },
      "source": [
        "### Plotting \n",
        "# shift train predictions for plotting\n",
        "look_back=100\n",
        "trainPredictPlot = numpy.empty_like(df1)\n",
        "trainPredictPlot[:, :] = np.nan\n",
        "trainPredictPlot[look_back:len(train_predict)+look_back, :] = train_predict\n",
        "# shift test predictions for plotting\n",
        "testPredictPlot = numpy.empty_like(df1)\n",
        "testPredictPlot[:, :] = numpy.nan\n",
        "testPredictPlot[len(train_predict)+(look_back*2)+1:len(df1)-1, :] = test_predict\n",
        "# plot baseline and predictions\n",
        "plt.plot(scaler.inverse_transform(df1))\n",
        "plt.plot(trainPredictPlot)\n",
        "plt.plot(testPredictPlot)\n",
        "plt.show()"
      ],
      "execution_count": null,
      "outputs": [
        {
          "output_type": "display_data",
          "data": {
            "image/png": "[encoded data removed]",
            "text/plain": [
              "<Figure size 432x288 with 1 Axes>"
            ]
          },
          "metadata": {
            "tags": [],
            "needs_background": "light"
          }
        }
      ]
    },
    {
      "cell_type": "code",
      "metadata": {
        "colab": {
          "base_uri": "https://localhost:8080/"
        },
        "id": "ROisIL7hPmV0",
        "outputId": "2237db76-6346-476e-fdfc-8add7f39d0d9"
      },
      "source": [
        "len(test_data)"
      ],
      "execution_count": null,
      "outputs": [
        {
          "output_type": "execute_result",
          "data": {
            "text/plain": [
              "441"
            ]
          },
          "metadata": {
            "tags": []
          },
          "execution_count": 40
        }
      ]
    },
    {
      "cell_type": "code",
      "metadata": {
        "colab": {
          "base_uri": "https://localhost:8080/"
        },
        "id": "mSthhKM8PmV0",
        "outputId": "d7ec61ee-1706-4ec6-9a1b-54ba957dcc27"
      },
      "source": [
        "x_input=test_data[341:].reshape(1,-1)\n",
        "x_input.shape\n"
      ],
      "execution_count": null,
      "outputs": [
        {
          "output_type": "execute_result",
          "data": {
            "text/plain": [
              "(1, 100)"
            ]
          },
          "metadata": {
            "tags": []
          },
          "execution_count": 41
        }
      ]
    },
    {
      "cell_type": "code",
      "metadata": {
        "id": "lB4VQruoPmV1"
      },
      "source": [
        ""
      ],
      "execution_count": null,
      "outputs": []
    },
    {
      "cell_type": "code",
      "metadata": {
        "id": "hnkLO1hQPmV1"
      },
      "source": [
        ""
      ],
      "execution_count": null,
      "outputs": []
    },
    {
      "cell_type": "code",
      "metadata": {
        "id": "OJHPx07QPmV1"
      },
      "source": [
        "temp_input=list(x_input)\n",
        "temp_input=temp_input[0].tolist()"
      ],
      "execution_count": null,
      "outputs": []
    },
    {
      "cell_type": "code",
      "metadata": {
        "colab": {
          "base_uri": "https://localhost:8080/"
        },
        "id": "7q_lJ3BFPmV2",
        "outputId": "917cca77-7d9a-455c-9a81-0273ff9a2071"
      },
      "source": [
        "temp_input"
      ],
      "execution_count": null,
      "outputs": [
        {
          "output_type": "execute_result",
          "data": {
            "text/plain": [
              "[0.07005031507986909,\n",
              " 0.05940110400078158,\n",
              " 0.060060573494211345,\n",
              " 0.07600996531678961,\n",
              " 0.0694885447706512,\n",
              " 0.06201455717844756,\n",
              " 0.05730057154022761,\n",
              " 0.060451370231058565,\n",
              " 0.048092423428264364,\n",
              " 0.05963313956328464,\n",
              " 0.056934199599433355,\n",
              " 0.061770309217917985,\n",
              " 0.0594988031849934,\n",
              " 0.06672854281666746,\n",
              " 0.07058766059303401,\n",
              " 0.06860925211274488,\n",
              " 0.05827756338234574,\n",
              " 0.05695862439548627,\n",
              " 0.06526305505349028,\n",
              " 0.06318694738898933,\n",
              " 0.057202872356015844,\n",
              " 0.0584241121586635,\n",
              " 0.05993844951394656,\n",
              " 0.060378095842899715,\n",
              " 0.05673880123100972,\n",
              " 0.06223438034292417,\n",
              " 0.06431048800742512,\n",
              " 0.07139367886278153,\n",
              " 0.072150847540423,\n",
              " 0.0762786380733721,\n",
              " 0.08228713790239855,\n",
              " 0.0887230716623516,\n",
              " 0.08443651995505841,\n",
              " 0.09222802989595041,\n",
              " 0.08636607884324166,\n",
              " 0.09239900346832103,\n",
              " 0.09156856040252065,\n",
              " 0.09322944653412146,\n",
              " 0.0890039568169606,\n",
              " 0.08995652386302572,\n",
              " 0.0861462556787651,\n",
              " 0.09195935713936787,\n",
              " 0.092936348981486,\n",
              " 0.09213033071173854,\n",
              " 0.09015192223144941,\n",
              " 0.08990767427091984,\n",
              " 0.08497386546822339,\n",
              " 0.08761174344194222,\n",
              " 0.07615651409310731,\n",
              " 0.07676713399443114,\n",
              " 0.08077280054711544,\n",
              " 0.08192076596160425,\n",
              " 0.073714034487812,\n",
              " 0.07141810365883444,\n",
              " 0.06374871769820722,\n",
              " 0.06912217282985689,\n",
              " 0.07517952225098923,\n",
              " 0.07229739631674076,\n",
              " 0.06882907527722143,\n",
              " 0.06843827854037415,\n",
              " 0.07483757510624789,\n",
              " 0.07024571344829272,\n",
              " 0.07432465438913582,\n",
              " 0.07383615846807678,\n",
              " 0.073714034487812,\n",
              " 0.06987934150749842,\n",
              " 0.06824288017195057,\n",
              " 0.0674368619022031,\n",
              " 0.06934199599433344,\n",
              " 0.06562942699428459,\n",
              " 0.07136925406672856,\n",
              " 0.07139367886278153,\n",
              " 0.07344536173122951,\n",
              " 0.07439792877729468,\n",
              " 0.07190659957989348,\n",
              " 0.07493527429045965,\n",
              " 0.0825802354550339,\n",
              " 0.08052855258658587,\n",
              " 0.08177421718528649,\n",
              " 0.08577988373797074,\n",
              " 0.08253138586292807,\n",
              " 0.08702554833667142,\n",
              " 0.09112891407356744,\n",
              " 0.09044501978408476,\n",
              " 0.08973670069854917,\n",
              " 0.0890039568169606,\n",
              " 0.0930828977578037,\n",
              " 0.09686874114601146,\n",
              " 0.09840750329734749,\n",
              " 0.09916467197498902,\n",
              " 0.10573494211323337,\n",
              " 0.11076645010014169,\n",
              " 0.11699477309364464,\n",
              " 0.11374627521860198,\n",
              " 0.11831371208050417,\n",
              " 0.11682379952127397,\n",
              " 0.11960822627131062,\n",
              " 0.12818132968589713,\n",
              " 0.12654486835034928,\n",
              " 0.12144008597528205]"
            ]
          },
          "metadata": {
            "tags": []
          },
          "execution_count": 43
        }
      ]
    },
    {
      "cell_type": "code",
      "metadata": {
        "colab": {
          "base_uri": "https://localhost:8080/"
        },
        "id": "unaVIxK7PmV3",
        "outputId": "701aa690-60ac-4c46-dce8-66a18be09c49"
      },
      "source": [
        "# demonstrate prediction for next 10 days\n",
        "from numpy import array\n",
        "\n",
        "lst_output=[]\n",
        "n_steps=100\n",
        "i=0\n",
        "while(i<30):\n",
        "    \n",
        "    if(len(temp_input)>100):\n",
        "        #print(temp_input)\n",
        "        x_input=np.array(temp_input[1:])\n",
        "        print(\"{} day input {}\".format(i,x_input))\n",
        "        x_input=x_input.reshape(1,-1)\n",
        "        x_input = x_input.reshape((1, n_steps, 1))\n",
        "        #print(x_input)\n",
        "        yhat = model.predict(x_input, verbose=0)\n",
        "        print(\"{} day output {}\".format(i,yhat))\n",
        "        temp_input.extend(yhat[0].tolist())\n",
        "        temp_input=temp_input[1:]\n",
        "        #print(temp_input)\n",
        "        lst_output.extend(yhat.tolist())\n",
        "        i=i+1\n",
        "    else:\n",
        "        x_input = x_input.reshape((1, n_steps,1))\n",
        "        yhat = model.predict(x_input, verbose=0)\n",
        "        print(yhat[0])\n",
        "        temp_input.extend(yhat[0].tolist())\n",
        "        print(len(temp_input))\n",
        "        lst_output.extend(yhat.tolist())\n",
        "        i=i+1\n",
        "    \n",
        "\n",
        "print(lst_output)"
      ],
      "execution_count": null,
      "outputs": [
        {
          "output_type": "stream",
          "text": [
            "[0.12160447]\n",
            "101\n",
            "1 day input [0.0594011  0.06006057 0.07600997 0.06948854 0.06201456 0.05730057\n",
            " 0.06045137 0.04809242 0.05963314 0.0569342  0.06177031 0.0594988\n",
            " 0.06672854 0.07058766 0.06860925 0.05827756 0.05695862 0.06526306\n",
            " 0.06318695 0.05720287 0.05842411 0.05993845 0.0603781  0.0567388\n",
            " 0.06223438 0.06431049 0.07139368 0.07215085 0.07627864 0.08228714\n",
            " 0.08872307 0.08443652 0.09222803 0.08636608 0.092399   0.09156856\n",
            " 0.09322945 0.08900396 0.08995652 0.08614626 0.09195936 0.09293635\n",
            " 0.09213033 0.09015192 0.08990767 0.08497387 0.08761174 0.07615651\n",
            " 0.07676713 0.0807728  0.08192077 0.07371403 0.0714181  0.06374872\n",
            " 0.06912217 0.07517952 0.0722974  0.06882908 0.06843828 0.07483758\n",
            " 0.07024571 0.07432465 0.07383616 0.07371403 0.06987934 0.06824288\n",
            " 0.06743686 0.069342   0.06562943 0.07136925 0.07139368 0.07344536\n",
            " 0.07439793 0.0719066  0.07493527 0.08258024 0.08052855 0.08177422\n",
            " 0.08577988 0.08253139 0.08702555 0.09112891 0.09044502 0.0897367\n",
            " 0.08900396 0.0930829  0.09686874 0.0984075  0.09916467 0.10573494\n",
            " 0.11076645 0.11699477 0.11374628 0.11831371 0.1168238  0.11960823\n",
            " 0.12818133 0.12654487 0.12144009 0.12160447]\n",
            "1 day output [[0.12285003]]\n",
            "2 day input [0.06006057 0.07600997 0.06948854 0.06201456 0.05730057 0.06045137\n",
            " 0.04809242 0.05963314 0.0569342  0.06177031 0.0594988  0.06672854\n",
            " 0.07058766 0.06860925 0.05827756 0.05695862 0.06526306 0.06318695\n",
            " 0.05720287 0.05842411 0.05993845 0.0603781  0.0567388  0.06223438\n",
            " 0.06431049 0.07139368 0.07215085 0.07627864 0.08228714 0.08872307\n",
            " 0.08443652 0.09222803 0.08636608 0.092399   0.09156856 0.09322945\n",
            " 0.08900396 0.08995652 0.08614626 0.09195936 0.09293635 0.09213033\n",
            " 0.09015192 0.08990767 0.08497387 0.08761174 0.07615651 0.07676713\n",
            " 0.0807728  0.08192077 0.07371403 0.0714181  0.06374872 0.06912217\n",
            " 0.07517952 0.0722974  0.06882908 0.06843828 0.07483758 0.07024571\n",
            " 0.07432465 0.07383616 0.07371403 0.06987934 0.06824288 0.06743686\n",
            " 0.069342   0.06562943 0.07136925 0.07139368 0.07344536 0.07439793\n",
            " 0.0719066  0.07493527 0.08258024 0.08052855 0.08177422 0.08577988\n",
            " 0.08253139 0.08702555 0.09112891 0.09044502 0.0897367  0.08900396\n",
            " 0.0930829  0.09686874 0.0984075  0.09916467 0.10573494 0.11076645\n",
            " 0.11699477 0.11374628 0.11831371 0.1168238  0.11960823 0.12818133\n",
            " 0.12654487 0.12144009 0.12160447 0.12285003]\n",
            "2 day output [[0.12349275]]\n",
            "3 day input [0.07600997 0.06948854 0.06201456 0.05730057 0.06045137 0.04809242\n",
            " 0.05963314 0.0569342  0.06177031 0.0594988  0.06672854 0.07058766\n",
            " 0.06860925 0.05827756 0.05695862 0.06526306 0.06318695 0.05720287\n",
            " 0.05842411 0.05993845 0.0603781  0.0567388  0.06223438 0.06431049\n",
            " 0.07139368 0.07215085 0.07627864 0.08228714 0.08872307 0.08443652\n",
            " 0.09222803 0.08636608 0.092399   0.09156856 0.09322945 0.08900396\n",
            " 0.08995652 0.08614626 0.09195936 0.09293635 0.09213033 0.09015192\n",
            " 0.08990767 0.08497387 0.08761174 0.07615651 0.07676713 0.0807728\n",
            " 0.08192077 0.07371403 0.0714181  0.06374872 0.06912217 0.07517952\n",
            " 0.0722974  0.06882908 0.06843828 0.07483758 0.07024571 0.07432465\n",
            " 0.07383616 0.07371403 0.06987934 0.06824288 0.06743686 0.069342\n",
            " 0.06562943 0.07136925 0.07139368 0.07344536 0.07439793 0.0719066\n",
            " 0.07493527 0.08258024 0.08052855 0.08177422 0.08577988 0.08253139\n",
            " 0.08702555 0.09112891 0.09044502 0.0897367  0.08900396 0.0930829\n",
            " 0.09686874 0.0984075  0.09916467 0.10573494 0.11076645 0.11699477\n",
            " 0.11374628 0.11831371 0.1168238  0.11960823 0.12818133 0.12654487\n",
            " 0.12144009 0.12160447 0.12285003 0.12349275]\n",
            "3 day output [[0.12373167]]\n",
            "4 day input [0.06948854 0.06201456 0.05730057 0.06045137 0.04809242 0.05963314\n",
            " 0.0569342  0.06177031 0.0594988  0.06672854 0.07058766 0.06860925\n",
            " 0.05827756 0.05695862 0.06526306 0.06318695 0.05720287 0.05842411\n",
            " 0.05993845 0.0603781  0.0567388  0.06223438 0.06431049 0.07139368\n",
            " 0.07215085 0.07627864 0.08228714 0.08872307 0.08443652 0.09222803\n",
            " 0.08636608 0.092399   0.09156856 0.09322945 0.08900396 0.08995652\n",
            " 0.08614626 0.09195936 0.09293635 0.09213033 0.09015192 0.08990767\n",
            " 0.08497387 0.08761174 0.07615651 0.07676713 0.0807728  0.08192077\n",
            " 0.07371403 0.0714181  0.06374872 0.06912217 0.07517952 0.0722974\n",
            " 0.06882908 0.06843828 0.07483758 0.07024571 0.07432465 0.07383616\n",
            " 0.07371403 0.06987934 0.06824288 0.06743686 0.069342   0.06562943\n",
            " 0.07136925 0.07139368 0.07344536 0.07439793 0.0719066  0.07493527\n",
            " 0.08258024 0.08052855 0.08177422 0.08577988 0.08253139 0.08702555\n",
            " 0.09112891 0.09044502 0.0897367  0.08900396 0.0930829  0.09686874\n",
            " 0.0984075  0.09916467 0.10573494 0.11076645 0.11699477 0.11374628\n",
            " 0.11831371 0.1168238  0.11960823 0.12818133 0.12654487 0.12144009\n",
            " 0.12160447 0.12285003 0.12349275 0.12373167]\n",
            "4 day output [[0.12374306]]\n",
            "5 day input [0.06201456 0.05730057 0.06045137 0.04809242 0.05963314 0.0569342\n",
            " 0.06177031 0.0594988  0.06672854 0.07058766 0.06860925 0.05827756\n",
            " 0.05695862 0.06526306 0.06318695 0.05720287 0.05842411 0.05993845\n",
            " 0.0603781  0.0567388  0.06223438 0.06431049 0.07139368 0.07215085\n",
            " 0.07627864 0.08228714 0.08872307 0.08443652 0.09222803 0.08636608\n",
            " 0.092399   0.09156856 0.09322945 0.08900396 0.08995652 0.08614626\n",
            " 0.09195936 0.09293635 0.09213033 0.09015192 0.08990767 0.08497387\n",
            " 0.08761174 0.07615651 0.07676713 0.0807728  0.08192077 0.07371403\n",
            " 0.0714181  0.06374872 0.06912217 0.07517952 0.0722974  0.06882908\n",
            " 0.06843828 0.07483758 0.07024571 0.07432465 0.07383616 0.07371403\n",
            " 0.06987934 0.06824288 0.06743686 0.069342   0.06562943 0.07136925\n",
            " 0.07139368 0.07344536 0.07439793 0.0719066  0.07493527 0.08258024\n",
            " 0.08052855 0.08177422 0.08577988 0.08253139 0.08702555 0.09112891\n",
            " 0.09044502 0.0897367  0.08900396 0.0930829  0.09686874 0.0984075\n",
            " 0.09916467 0.10573494 0.11076645 0.11699477 0.11374628 0.11831371\n",
            " 0.1168238  0.11960823 0.12818133 0.12654487 0.12144009 0.12160447\n",
            " 0.12285003 0.12349275 0.12373167 0.12374306]\n",
            "5 day output [[0.12365123]]\n",
            "6 day input [0.05730057 0.06045137 0.04809242 0.05963314 0.0569342  0.06177031\n",
            " 0.0594988  0.06672854 0.07058766 0.06860925 0.05827756 0.05695862\n",
            " 0.06526306 0.06318695 0.05720287 0.05842411 0.05993845 0.0603781\n",
            " 0.0567388  0.06223438 0.06431049 0.07139368 0.07215085 0.07627864\n",
            " 0.08228714 0.08872307 0.08443652 0.09222803 0.08636608 0.092399\n",
            " 0.09156856 0.09322945 0.08900396 0.08995652 0.08614626 0.09195936\n",
            " 0.09293635 0.09213033 0.09015192 0.08990767 0.08497387 0.08761174\n",
            " 0.07615651 0.07676713 0.0807728  0.08192077 0.07371403 0.0714181\n",
            " 0.06374872 0.06912217 0.07517952 0.0722974  0.06882908 0.06843828\n",
            " 0.07483758 0.07024571 0.07432465 0.07383616 0.07371403 0.06987934\n",
            " 0.06824288 0.06743686 0.069342   0.06562943 0.07136925 0.07139368\n",
            " 0.07344536 0.07439793 0.0719066  0.07493527 0.08258024 0.08052855\n",
            " 0.08177422 0.08577988 0.08253139 0.08702555 0.09112891 0.09044502\n",
            " 0.0897367  0.08900396 0.0930829  0.09686874 0.0984075  0.09916467\n",
            " 0.10573494 0.11076645 0.11699477 0.11374628 0.11831371 0.1168238\n",
            " 0.11960823 0.12818133 0.12654487 0.12144009 0.12160447 0.12285003\n",
            " 0.12349275 0.12373167 0.12374306 0.12365123]\n",
            "6 day output [[0.12353091]]\n",
            "7 day input [0.06045137 0.04809242 0.05963314 0.0569342  0.06177031 0.0594988\n",
            " 0.06672854 0.07058766 0.06860925 0.05827756 0.05695862 0.06526306\n",
            " 0.06318695 0.05720287 0.05842411 0.05993845 0.0603781  0.0567388\n",
            " 0.06223438 0.06431049 0.07139368 0.07215085 0.07627864 0.08228714\n",
            " 0.08872307 0.08443652 0.09222803 0.08636608 0.092399   0.09156856\n",
            " 0.09322945 0.08900396 0.08995652 0.08614626 0.09195936 0.09293635\n",
            " 0.09213033 0.09015192 0.08990767 0.08497387 0.08761174 0.07615651\n",
            " 0.07676713 0.0807728  0.08192077 0.07371403 0.0714181  0.06374872\n",
            " 0.06912217 0.07517952 0.0722974  0.06882908 0.06843828 0.07483758\n",
            " 0.07024571 0.07432465 0.07383616 0.07371403 0.06987934 0.06824288\n",
            " 0.06743686 0.069342   0.06562943 0.07136925 0.07139368 0.07344536\n",
            " 0.07439793 0.0719066  0.07493527 0.08258024 0.08052855 0.08177422\n",
            " 0.08577988 0.08253139 0.08702555 0.09112891 0.09044502 0.0897367\n",
            " 0.08900396 0.0930829  0.09686874 0.0984075  0.09916467 0.10573494\n",
            " 0.11076645 0.11699477 0.11374628 0.11831371 0.1168238  0.11960823\n",
            " 0.12818133 0.12654487 0.12144009 0.12160447 0.12285003 0.12349275\n",
            " 0.12373167 0.12374306 0.12365123 0.12353091]\n",
            "7 day output [[0.12342063]]\n",
            "8 day input [0.04809242 0.05963314 0.0569342  0.06177031 0.0594988  0.06672854\n",
            " 0.07058766 0.06860925 0.05827756 0.05695862 0.06526306 0.06318695\n",
            " 0.05720287 0.05842411 0.05993845 0.0603781  0.0567388  0.06223438\n",
            " 0.06431049 0.07139368 0.07215085 0.07627864 0.08228714 0.08872307\n",
            " 0.08443652 0.09222803 0.08636608 0.092399   0.09156856 0.09322945\n",
            " 0.08900396 0.08995652 0.08614626 0.09195936 0.09293635 0.09213033\n",
            " 0.09015192 0.08990767 0.08497387 0.08761174 0.07615651 0.07676713\n",
            " 0.0807728  0.08192077 0.07371403 0.0714181  0.06374872 0.06912217\n",
            " 0.07517952 0.0722974  0.06882908 0.06843828 0.07483758 0.07024571\n",
            " 0.07432465 0.07383616 0.07371403 0.06987934 0.06824288 0.06743686\n",
            " 0.069342   0.06562943 0.07136925 0.07139368 0.07344536 0.07439793\n",
            " 0.0719066  0.07493527 0.08258024 0.08052855 0.08177422 0.08577988\n",
            " 0.08253139 0.08702555 0.09112891 0.09044502 0.0897367  0.08900396\n",
            " 0.0930829  0.09686874 0.0984075  0.09916467 0.10573494 0.11076645\n",
            " 0.11699477 0.11374628 0.11831371 0.1168238  0.11960823 0.12818133\n",
            " 0.12654487 0.12144009 0.12160447 0.12285003 0.12349275 0.12373167\n",
            " 0.12374306 0.12365123 0.12353091 0.12342063]\n",
            "8 day output [[0.12333674]]\n",
            "9 day input [0.05963314 0.0569342  0.06177031 0.0594988  0.06672854 0.07058766\n",
            " 0.06860925 0.05827756 0.05695862 0.06526306 0.06318695 0.05720287\n",
            " 0.05842411 0.05993845 0.0603781  0.0567388  0.06223438 0.06431049\n",
            " 0.07139368 0.07215085 0.07627864 0.08228714 0.08872307 0.08443652\n",
            " 0.09222803 0.08636608 0.092399   0.09156856 0.09322945 0.08900396\n",
            " 0.08995652 0.08614626 0.09195936 0.09293635 0.09213033 0.09015192\n",
            " 0.08990767 0.08497387 0.08761174 0.07615651 0.07676713 0.0807728\n",
            " 0.08192077 0.07371403 0.0714181  0.06374872 0.06912217 0.07517952\n",
            " 0.0722974  0.06882908 0.06843828 0.07483758 0.07024571 0.07432465\n",
            " 0.07383616 0.07371403 0.06987934 0.06824288 0.06743686 0.069342\n",
            " 0.06562943 0.07136925 0.07139368 0.07344536 0.07439793 0.0719066\n",
            " 0.07493527 0.08258024 0.08052855 0.08177422 0.08577988 0.08253139\n",
            " 0.08702555 0.09112891 0.09044502 0.0897367  0.08900396 0.0930829\n",
            " 0.09686874 0.0984075  0.09916467 0.10573494 0.11076645 0.11699477\n",
            " 0.11374628 0.11831371 0.1168238  0.11960823 0.12818133 0.12654487\n",
            " 0.12144009 0.12160447 0.12285003 0.12349275 0.12373167 0.12374306\n",
            " 0.12365123 0.12353091 0.12342063 0.12333674]\n",
            "9 day output [[0.12328386]]\n",
            "10 day input [0.0569342  0.06177031 0.0594988  0.06672854 0.07058766 0.06860925\n",
            " 0.05827756 0.05695862 0.06526306 0.06318695 0.05720287 0.05842411\n",
            " 0.05993845 0.0603781  0.0567388  0.06223438 0.06431049 0.07139368\n",
            " 0.07215085 0.07627864 0.08228714 0.08872307 0.08443652 0.09222803\n",
            " 0.08636608 0.092399   0.09156856 0.09322945 0.08900396 0.08995652\n",
            " 0.08614626 0.09195936 0.09293635 0.09213033 0.09015192 0.08990767\n",
            " 0.08497387 0.08761174 0.07615651 0.07676713 0.0807728  0.08192077\n",
            " 0.07371403 0.0714181  0.06374872 0.06912217 0.07517952 0.0722974\n",
            " 0.06882908 0.06843828 0.07483758 0.07024571 0.07432465 0.07383616\n",
            " 0.07371403 0.06987934 0.06824288 0.06743686 0.069342   0.06562943\n",
            " 0.07136925 0.07139368 0.07344536 0.07439793 0.0719066  0.07493527\n",
            " 0.08258024 0.08052855 0.08177422 0.08577988 0.08253139 0.08702555\n",
            " 0.09112891 0.09044502 0.0897367  0.08900396 0.0930829  0.09686874\n",
            " 0.0984075  0.09916467 0.10573494 0.11076645 0.11699477 0.11374628\n",
            " 0.11831371 0.1168238  0.11960823 0.12818133 0.12654487 0.12144009\n",
            " 0.12160447 0.12285003 0.12349275 0.12373167 0.12374306 0.12365123\n",
            " 0.12353091 0.12342063 0.12333674 0.12328386]\n",
            "10 day output [[0.12326121]]\n",
            "11 day input [0.06177031 0.0594988  0.06672854 0.07058766 0.06860925 0.05827756\n",
            " 0.05695862 0.06526306 0.06318695 0.05720287 0.05842411 0.05993845\n",
            " 0.0603781  0.0567388  0.06223438 0.06431049 0.07139368 0.07215085\n",
            " 0.07627864 0.08228714 0.08872307 0.08443652 0.09222803 0.08636608\n",
            " 0.092399   0.09156856 0.09322945 0.08900396 0.08995652 0.08614626\n",
            " 0.09195936 0.09293635 0.09213033 0.09015192 0.08990767 0.08497387\n",
            " 0.08761174 0.07615651 0.07676713 0.0807728  0.08192077 0.07371403\n",
            " 0.0714181  0.06374872 0.06912217 0.07517952 0.0722974  0.06882908\n",
            " 0.06843828 0.07483758 0.07024571 0.07432465 0.07383616 0.07371403\n",
            " 0.06987934 0.06824288 0.06743686 0.069342   0.06562943 0.07136925\n",
            " 0.07139368 0.07344536 0.07439793 0.0719066  0.07493527 0.08258024\n",
            " 0.08052855 0.08177422 0.08577988 0.08253139 0.08702555 0.09112891\n",
            " 0.09044502 0.0897367  0.08900396 0.0930829  0.09686874 0.0984075\n",
            " 0.09916467 0.10573494 0.11076645 0.11699477 0.11374628 0.11831371\n",
            " 0.1168238  0.11960823 0.12818133 0.12654487 0.12144009 0.12160447\n",
            " 0.12285003 0.12349275 0.12373167 0.12374306 0.12365123 0.12353091\n",
            " 0.12342063 0.12333674 0.12328386 0.12326121]\n",
            "11 day output [[0.12326622]]\n",
            "12 day input [0.0594988  0.06672854 0.07058766 0.06860925 0.05827756 0.05695862\n",
            " 0.06526306 0.06318695 0.05720287 0.05842411 0.05993845 0.0603781\n",
            " 0.0567388  0.06223438 0.06431049 0.07139368 0.07215085 0.07627864\n",
            " 0.08228714 0.08872307 0.08443652 0.09222803 0.08636608 0.092399\n",
            " 0.09156856 0.09322945 0.08900396 0.08995652 0.08614626 0.09195936\n",
            " 0.09293635 0.09213033 0.09015192 0.08990767 0.08497387 0.08761174\n",
            " 0.07615651 0.07676713 0.0807728  0.08192077 0.07371403 0.0714181\n",
            " 0.06374872 0.06912217 0.07517952 0.0722974  0.06882908 0.06843828\n",
            " 0.07483758 0.07024571 0.07432465 0.07383616 0.07371403 0.06987934\n",
            " 0.06824288 0.06743686 0.069342   0.06562943 0.07136925 0.07139368\n",
            " 0.07344536 0.07439793 0.0719066  0.07493527 0.08258024 0.08052855\n",
            " 0.08177422 0.08577988 0.08253139 0.08702555 0.09112891 0.09044502\n",
            " 0.0897367  0.08900396 0.0930829  0.09686874 0.0984075  0.09916467\n",
            " 0.10573494 0.11076645 0.11699477 0.11374628 0.11831371 0.1168238\n",
            " 0.11960823 0.12818133 0.12654487 0.12144009 0.12160447 0.12285003\n",
            " 0.12349275 0.12373167 0.12374306 0.12365123 0.12353091 0.12342063\n",
            " 0.12333674 0.12328386 0.12326121 0.12326622]\n",
            "12 day output [[0.12329578]]\n",
            "13 day input [0.06672854 0.07058766 0.06860925 0.05827756 0.05695862 0.06526306\n",
            " 0.06318695 0.05720287 0.05842411 0.05993845 0.0603781  0.0567388\n",
            " 0.06223438 0.06431049 0.07139368 0.07215085 0.07627864 0.08228714\n",
            " 0.08872307 0.08443652 0.09222803 0.08636608 0.092399   0.09156856\n",
            " 0.09322945 0.08900396 0.08995652 0.08614626 0.09195936 0.09293635\n",
            " 0.09213033 0.09015192 0.08990767 0.08497387 0.08761174 0.07615651\n",
            " 0.07676713 0.0807728  0.08192077 0.07371403 0.0714181  0.06374872\n",
            " 0.06912217 0.07517952 0.0722974  0.06882908 0.06843828 0.07483758\n",
            " 0.07024571 0.07432465 0.07383616 0.07371403 0.06987934 0.06824288\n",
            " 0.06743686 0.069342   0.06562943 0.07136925 0.07139368 0.07344536\n",
            " 0.07439793 0.0719066  0.07493527 0.08258024 0.08052855 0.08177422\n",
            " 0.08577988 0.08253139 0.08702555 0.09112891 0.09044502 0.0897367\n",
            " 0.08900396 0.0930829  0.09686874 0.0984075  0.09916467 0.10573494\n",
            " 0.11076645 0.11699477 0.11374628 0.11831371 0.1168238  0.11960823\n",
            " 0.12818133 0.12654487 0.12144009 0.12160447 0.12285003 0.12349275\n",
            " 0.12373167 0.12374306 0.12365123 0.12353091 0.12342063 0.12333674\n",
            " 0.12328386 0.12326121 0.12326622 0.12329578]\n",
            "13 day output [[0.12334687]]\n",
            "14 day input [0.07058766 0.06860925 0.05827756 0.05695862 0.06526306 0.06318695\n",
            " 0.05720287 0.05842411 0.05993845 0.0603781  0.0567388  0.06223438\n",
            " 0.06431049 0.07139368 0.07215085 0.07627864 0.08228714 0.08872307\n",
            " 0.08443652 0.09222803 0.08636608 0.092399   0.09156856 0.09322945\n",
            " 0.08900396 0.08995652 0.08614626 0.09195936 0.09293635 0.09213033\n",
            " 0.09015192 0.08990767 0.08497387 0.08761174 0.07615651 0.07676713\n",
            " 0.0807728  0.08192077 0.07371403 0.0714181  0.06374872 0.06912217\n",
            " 0.07517952 0.0722974  0.06882908 0.06843828 0.07483758 0.07024571\n",
            " 0.07432465 0.07383616 0.07371403 0.06987934 0.06824288 0.06743686\n",
            " 0.069342   0.06562943 0.07136925 0.07139368 0.07344536 0.07439793\n",
            " 0.0719066  0.07493527 0.08258024 0.08052855 0.08177422 0.08577988\n",
            " 0.08253139 0.08702555 0.09112891 0.09044502 0.0897367  0.08900396\n",
            " 0.0930829  0.09686874 0.0984075  0.09916467 0.10573494 0.11076645\n",
            " 0.11699477 0.11374628 0.11831371 0.1168238  0.11960823 0.12818133\n",
            " 0.12654487 0.12144009 0.12160447 0.12285003 0.12349275 0.12373167\n",
            " 0.12374306 0.12365123 0.12353091 0.12342063 0.12333674 0.12328386\n",
            " 0.12326121 0.12326622 0.12329578 0.12334687]\n",
            "14 day output [[0.12341645]]\n",
            "15 day input [0.06860925 0.05827756 0.05695862 0.06526306 0.06318695 0.05720287\n",
            " 0.05842411 0.05993845 0.0603781  0.0567388  0.06223438 0.06431049\n",
            " 0.07139368 0.07215085 0.07627864 0.08228714 0.08872307 0.08443652\n",
            " 0.09222803 0.08636608 0.092399   0.09156856 0.09322945 0.08900396\n",
            " 0.08995652 0.08614626 0.09195936 0.09293635 0.09213033 0.09015192\n",
            " 0.08990767 0.08497387 0.08761174 0.07615651 0.07676713 0.0807728\n",
            " 0.08192077 0.07371403 0.0714181  0.06374872 0.06912217 0.07517952\n",
            " 0.0722974  0.06882908 0.06843828 0.07483758 0.07024571 0.07432465\n",
            " 0.07383616 0.07371403 0.06987934 0.06824288 0.06743686 0.069342\n",
            " 0.06562943 0.07136925 0.07139368 0.07344536 0.07439793 0.0719066\n",
            " 0.07493527 0.08258024 0.08052855 0.08177422 0.08577988 0.08253139\n",
            " 0.08702555 0.09112891 0.09044502 0.0897367  0.08900396 0.0930829\n",
            " 0.09686874 0.0984075  0.09916467 0.10573494 0.11076645 0.11699477\n",
            " 0.11374628 0.11831371 0.1168238  0.11960823 0.12818133 0.12654487\n",
            " 0.12144009 0.12160447 0.12285003 0.12349275 0.12373167 0.12374306\n",
            " 0.12365123 0.12353091 0.12342063 0.12333674 0.12328386 0.12326121\n",
            " 0.12326622 0.12329578 0.12334687 0.12341645]\n",
            "15 day output [[0.12350152]]\n",
            "16 day input [0.05827756 0.05695862 0.06526306 0.06318695 0.05720287 0.05842411\n",
            " 0.05993845 0.0603781  0.0567388  0.06223438 0.06431049 0.07139368\n",
            " 0.07215085 0.07627864 0.08228714 0.08872307 0.08443652 0.09222803\n",
            " 0.08636608 0.092399   0.09156856 0.09322945 0.08900396 0.08995652\n",
            " 0.08614626 0.09195936 0.09293635 0.09213033 0.09015192 0.08990767\n",
            " 0.08497387 0.08761174 0.07615651 0.07676713 0.0807728  0.08192077\n",
            " 0.07371403 0.0714181  0.06374872 0.06912217 0.07517952 0.0722974\n",
            " 0.06882908 0.06843828 0.07483758 0.07024571 0.07432465 0.07383616\n",
            " 0.07371403 0.06987934 0.06824288 0.06743686 0.069342   0.06562943\n",
            " 0.07136925 0.07139368 0.07344536 0.07439793 0.0719066  0.07493527\n",
            " 0.08258024 0.08052855 0.08177422 0.08577988 0.08253139 0.08702555\n",
            " 0.09112891 0.09044502 0.0897367  0.08900396 0.0930829  0.09686874\n",
            " 0.0984075  0.09916467 0.10573494 0.11076645 0.11699477 0.11374628\n",
            " 0.11831371 0.1168238  0.11960823 0.12818133 0.12654487 0.12144009\n",
            " 0.12160447 0.12285003 0.12349275 0.12373167 0.12374306 0.12365123\n",
            " 0.12353091 0.12342063 0.12333674 0.12328386 0.12326121 0.12326622\n",
            " 0.12329578 0.12334687 0.12341645 0.12350152]\n",
            "16 day output [[0.12359921]]\n",
            "17 day input [0.05695862 0.06526306 0.06318695 0.05720287 0.05842411 0.05993845\n",
            " 0.0603781  0.0567388  0.06223438 0.06431049 0.07139368 0.07215085\n",
            " 0.07627864 0.08228714 0.08872307 0.08443652 0.09222803 0.08636608\n",
            " 0.092399   0.09156856 0.09322945 0.08900396 0.08995652 0.08614626\n",
            " 0.09195936 0.09293635 0.09213033 0.09015192 0.08990767 0.08497387\n",
            " 0.08761174 0.07615651 0.07676713 0.0807728  0.08192077 0.07371403\n",
            " 0.0714181  0.06374872 0.06912217 0.07517952 0.0722974  0.06882908\n",
            " 0.06843828 0.07483758 0.07024571 0.07432465 0.07383616 0.07371403\n",
            " 0.06987934 0.06824288 0.06743686 0.069342   0.06562943 0.07136925\n",
            " 0.07139368 0.07344536 0.07439793 0.0719066  0.07493527 0.08258024\n",
            " 0.08052855 0.08177422 0.08577988 0.08253139 0.08702555 0.09112891\n",
            " 0.09044502 0.0897367  0.08900396 0.0930829  0.09686874 0.0984075\n",
            " 0.09916467 0.10573494 0.11076645 0.11699477 0.11374628 0.11831371\n",
            " 0.1168238  0.11960823 0.12818133 0.12654487 0.12144009 0.12160447\n",
            " 0.12285003 0.12349275 0.12373167 0.12374306 0.12365123 0.12353091\n",
            " 0.12342063 0.12333674 0.12328386 0.12326121 0.12326622 0.12329578\n",
            " 0.12334687 0.12341645 0.12350152 0.12359921]\n",
            "17 day output [[0.12370661]]\n",
            "18 day input [0.06526306 0.06318695 0.05720287 0.05842411 0.05993845 0.0603781\n",
            " 0.0567388  0.06223438 0.06431049 0.07139368 0.07215085 0.07627864\n",
            " 0.08228714 0.08872307 0.08443652 0.09222803 0.08636608 0.092399\n",
            " 0.09156856 0.09322945 0.08900396 0.08995652 0.08614626 0.09195936\n",
            " 0.09293635 0.09213033 0.09015192 0.08990767 0.08497387 0.08761174\n",
            " 0.07615651 0.07676713 0.0807728  0.08192077 0.07371403 0.0714181\n",
            " 0.06374872 0.06912217 0.07517952 0.0722974  0.06882908 0.06843828\n",
            " 0.07483758 0.07024571 0.07432465 0.07383616 0.07371403 0.06987934\n",
            " 0.06824288 0.06743686 0.069342   0.06562943 0.07136925 0.07139368\n",
            " 0.07344536 0.07439793 0.0719066  0.07493527 0.08258024 0.08052855\n",
            " 0.08177422 0.08577988 0.08253139 0.08702555 0.09112891 0.09044502\n",
            " 0.0897367  0.08900396 0.0930829  0.09686874 0.0984075  0.09916467\n",
            " 0.10573494 0.11076645 0.11699477 0.11374628 0.11831371 0.1168238\n",
            " 0.11960823 0.12818133 0.12654487 0.12144009 0.12160447 0.12285003\n",
            " 0.12349275 0.12373167 0.12374306 0.12365123 0.12353091 0.12342063\n",
            " 0.12333674 0.12328386 0.12326121 0.12326622 0.12329578 0.12334687\n",
            " 0.12341645 0.12350152 0.12359921 0.12370661]\n",
            "18 day output [[0.12382104]]\n",
            "19 day input [0.06318695 0.05720287 0.05842411 0.05993845 0.0603781  0.0567388\n",
            " 0.06223438 0.06431049 0.07139368 0.07215085 0.07627864 0.08228714\n",
            " 0.08872307 0.08443652 0.09222803 0.08636608 0.092399   0.09156856\n",
            " 0.09322945 0.08900396 0.08995652 0.08614626 0.09195936 0.09293635\n",
            " 0.09213033 0.09015192 0.08990767 0.08497387 0.08761174 0.07615651\n",
            " 0.07676713 0.0807728  0.08192077 0.07371403 0.0714181  0.06374872\n",
            " 0.06912217 0.07517952 0.0722974  0.06882908 0.06843828 0.07483758\n",
            " 0.07024571 0.07432465 0.07383616 0.07371403 0.06987934 0.06824288\n",
            " 0.06743686 0.069342   0.06562943 0.07136925 0.07139368 0.07344536\n",
            " 0.07439793 0.0719066  0.07493527 0.08258024 0.08052855 0.08177422\n",
            " 0.08577988 0.08253139 0.08702555 0.09112891 0.09044502 0.0897367\n",
            " 0.08900396 0.0930829  0.09686874 0.0984075  0.09916467 0.10573494\n",
            " 0.11076645 0.11699477 0.11374628 0.11831371 0.1168238  0.11960823\n",
            " 0.12818133 0.12654487 0.12144009 0.12160447 0.12285003 0.12349275\n",
            " 0.12373167 0.12374306 0.12365123 0.12353091 0.12342063 0.12333674\n",
            " 0.12328386 0.12326121 0.12326622 0.12329578 0.12334687 0.12341645\n",
            " 0.12350152 0.12359921 0.12370661 0.12382104]\n",
            "19 day output [[0.12394005]]\n",
            "20 day input [0.05720287 0.05842411 0.05993845 0.0603781  0.0567388  0.06223438\n",
            " 0.06431049 0.07139368 0.07215085 0.07627864 0.08228714 0.08872307\n",
            " 0.08443652 0.09222803 0.08636608 0.092399   0.09156856 0.09322945\n",
            " 0.08900396 0.08995652 0.08614626 0.09195936 0.09293635 0.09213033\n",
            " 0.09015192 0.08990767 0.08497387 0.08761174 0.07615651 0.07676713\n",
            " 0.0807728  0.08192077 0.07371403 0.0714181  0.06374872 0.06912217\n",
            " 0.07517952 0.0722974  0.06882908 0.06843828 0.07483758 0.07024571\n",
            " 0.07432465 0.07383616 0.07371403 0.06987934 0.06824288 0.06743686\n",
            " 0.069342   0.06562943 0.07136925 0.07139368 0.07344536 0.07439793\n",
            " 0.0719066  0.07493527 0.08258024 0.08052855 0.08177422 0.08577988\n",
            " 0.08253139 0.08702555 0.09112891 0.09044502 0.0897367  0.08900396\n",
            " 0.0930829  0.09686874 0.0984075  0.09916467 0.10573494 0.11076645\n",
            " 0.11699477 0.11374628 0.11831371 0.1168238  0.11960823 0.12818133\n",
            " 0.12654487 0.12144009 0.12160447 0.12285003 0.12349275 0.12373167\n",
            " 0.12374306 0.12365123 0.12353091 0.12342063 0.12333674 0.12328386\n",
            " 0.12326121 0.12326622 0.12329578 0.12334687 0.12341645 0.12350152\n",
            " 0.12359921 0.12370661 0.12382104 0.12394005]\n",
            "20 day output [[0.12406148]]\n",
            "21 day input [0.05842411 0.05993845 0.0603781  0.0567388  0.06223438 0.06431049\n",
            " 0.07139368 0.07215085 0.07627864 0.08228714 0.08872307 0.08443652\n",
            " 0.09222803 0.08636608 0.092399   0.09156856 0.09322945 0.08900396\n",
            " 0.08995652 0.08614626 0.09195936 0.09293635 0.09213033 0.09015192\n",
            " 0.08990767 0.08497387 0.08761174 0.07615651 0.07676713 0.0807728\n",
            " 0.08192077 0.07371403 0.0714181  0.06374872 0.06912217 0.07517952\n",
            " 0.0722974  0.06882908 0.06843828 0.07483758 0.07024571 0.07432465\n",
            " 0.07383616 0.07371403 0.06987934 0.06824288 0.06743686 0.069342\n",
            " 0.06562943 0.07136925 0.07139368 0.07344536 0.07439793 0.0719066\n",
            " 0.07493527 0.08258024 0.08052855 0.08177422 0.08577988 0.08253139\n",
            " 0.08702555 0.09112891 0.09044502 0.0897367  0.08900396 0.0930829\n",
            " 0.09686874 0.0984075  0.09916467 0.10573494 0.11076645 0.11699477\n",
            " 0.11374628 0.11831371 0.1168238  0.11960823 0.12818133 0.12654487\n",
            " 0.12144009 0.12160447 0.12285003 0.12349275 0.12373167 0.12374306\n",
            " 0.12365123 0.12353091 0.12342063 0.12333674 0.12328386 0.12326121\n",
            " 0.12326622 0.12329578 0.12334687 0.12341645 0.12350152 0.12359921\n",
            " 0.12370661 0.12382104 0.12394005 0.12406148]\n",
            "21 day output [[0.12418349]]\n",
            "22 day input [0.05993845 0.0603781  0.0567388  0.06223438 0.06431049 0.07139368\n",
            " 0.07215085 0.07627864 0.08228714 0.08872307 0.08443652 0.09222803\n",
            " 0.08636608 0.092399   0.09156856 0.09322945 0.08900396 0.08995652\n",
            " 0.08614626 0.09195936 0.09293635 0.09213033 0.09015192 0.08990767\n",
            " 0.08497387 0.08761174 0.07615651 0.07676713 0.0807728  0.08192077\n",
            " 0.07371403 0.0714181  0.06374872 0.06912217 0.07517952 0.0722974\n",
            " 0.06882908 0.06843828 0.07483758 0.07024571 0.07432465 0.07383616\n",
            " 0.07371403 0.06987934 0.06824288 0.06743686 0.069342   0.06562943\n",
            " 0.07136925 0.07139368 0.07344536 0.07439793 0.0719066  0.07493527\n",
            " 0.08258024 0.08052855 0.08177422 0.08577988 0.08253139 0.08702555\n",
            " 0.09112891 0.09044502 0.0897367  0.08900396 0.0930829  0.09686874\n",
            " 0.0984075  0.09916467 0.10573494 0.11076645 0.11699477 0.11374628\n",
            " 0.11831371 0.1168238  0.11960823 0.12818133 0.12654487 0.12144009\n",
            " 0.12160447 0.12285003 0.12349275 0.12373167 0.12374306 0.12365123\n",
            " 0.12353091 0.12342063 0.12333674 0.12328386 0.12326121 0.12326622\n",
            " 0.12329578 0.12334687 0.12341645 0.12350152 0.12359921 0.12370661\n",
            " 0.12382104 0.12394005 0.12406148 0.12418349]\n",
            "22 day output [[0.12430459]]\n",
            "23 day input [0.0603781  0.0567388  0.06223438 0.06431049 0.07139368 0.07215085\n",
            " 0.07627864 0.08228714 0.08872307 0.08443652 0.09222803 0.08636608\n",
            " 0.092399   0.09156856 0.09322945 0.08900396 0.08995652 0.08614626\n",
            " 0.09195936 0.09293635 0.09213033 0.09015192 0.08990767 0.08497387\n",
            " 0.08761174 0.07615651 0.07676713 0.0807728  0.08192077 0.07371403\n",
            " 0.0714181  0.06374872 0.06912217 0.07517952 0.0722974  0.06882908\n",
            " 0.06843828 0.07483758 0.07024571 0.07432465 0.07383616 0.07371403\n",
            " 0.06987934 0.06824288 0.06743686 0.069342   0.06562943 0.07136925\n",
            " 0.07139368 0.07344536 0.07439793 0.0719066  0.07493527 0.08258024\n",
            " 0.08052855 0.08177422 0.08577988 0.08253139 0.08702555 0.09112891\n",
            " 0.09044502 0.0897367  0.08900396 0.0930829  0.09686874 0.0984075\n",
            " 0.09916467 0.10573494 0.11076645 0.11699477 0.11374628 0.11831371\n",
            " 0.1168238  0.11960823 0.12818133 0.12654487 0.12144009 0.12160447\n",
            " 0.12285003 0.12349275 0.12373167 0.12374306 0.12365123 0.12353091\n",
            " 0.12342063 0.12333674 0.12328386 0.12326121 0.12326622 0.12329578\n",
            " 0.12334687 0.12341645 0.12350152 0.12359921 0.12370661 0.12382104\n",
            " 0.12394005 0.12406148 0.12418349 0.12430459]\n",
            "23 day output [[0.12442368]]\n",
            "24 day input [0.0567388  0.06223438 0.06431049 0.07139368 0.07215085 0.07627864\n",
            " 0.08228714 0.08872307 0.08443652 0.09222803 0.08636608 0.092399\n",
            " 0.09156856 0.09322945 0.08900396 0.08995652 0.08614626 0.09195936\n",
            " 0.09293635 0.09213033 0.09015192 0.08990767 0.08497387 0.08761174\n",
            " 0.07615651 0.07676713 0.0807728  0.08192077 0.07371403 0.0714181\n",
            " 0.06374872 0.06912217 0.07517952 0.0722974  0.06882908 0.06843828\n",
            " 0.07483758 0.07024571 0.07432465 0.07383616 0.07371403 0.06987934\n",
            " 0.06824288 0.06743686 0.069342   0.06562943 0.07136925 0.07139368\n",
            " 0.07344536 0.07439793 0.0719066  0.07493527 0.08258024 0.08052855\n",
            " 0.08177422 0.08577988 0.08253139 0.08702555 0.09112891 0.09044502\n",
            " 0.0897367  0.08900396 0.0930829  0.09686874 0.0984075  0.09916467\n",
            " 0.10573494 0.11076645 0.11699477 0.11374628 0.11831371 0.1168238\n",
            " 0.11960823 0.12818133 0.12654487 0.12144009 0.12160447 0.12285003\n",
            " 0.12349275 0.12373167 0.12374306 0.12365123 0.12353091 0.12342063\n",
            " 0.12333674 0.12328386 0.12326121 0.12326622 0.12329578 0.12334687\n",
            " 0.12341645 0.12350152 0.12359921 0.12370661 0.12382104 0.12394005\n",
            " 0.12406148 0.12418349 0.12430459 0.12442368]\n",
            "24 day output [[0.12453985]]\n",
            "25 day input [0.06223438 0.06431049 0.07139368 0.07215085 0.07627864 0.08228714\n",
            " 0.08872307 0.08443652 0.09222803 0.08636608 0.092399   0.09156856\n",
            " 0.09322945 0.08900396 0.08995652 0.08614626 0.09195936 0.09293635\n",
            " 0.09213033 0.09015192 0.08990767 0.08497387 0.08761174 0.07615651\n",
            " 0.07676713 0.0807728  0.08192077 0.07371403 0.0714181  0.06374872\n",
            " 0.06912217 0.07517952 0.0722974  0.06882908 0.06843828 0.07483758\n",
            " 0.07024571 0.07432465 0.07383616 0.07371403 0.06987934 0.06824288\n",
            " 0.06743686 0.069342   0.06562943 0.07136925 0.07139368 0.07344536\n",
            " 0.07439793 0.0719066  0.07493527 0.08258024 0.08052855 0.08177422\n",
            " 0.08577988 0.08253139 0.08702555 0.09112891 0.09044502 0.0897367\n",
            " 0.08900396 0.0930829  0.09686874 0.0984075  0.09916467 0.10573494\n",
            " 0.11076645 0.11699477 0.11374628 0.11831371 0.1168238  0.11960823\n",
            " 0.12818133 0.12654487 0.12144009 0.12160447 0.12285003 0.12349275\n",
            " 0.12373167 0.12374306 0.12365123 0.12353091 0.12342063 0.12333674\n",
            " 0.12328386 0.12326121 0.12326622 0.12329578 0.12334687 0.12341645\n",
            " 0.12350152 0.12359921 0.12370661 0.12382104 0.12394005 0.12406148\n",
            " 0.12418349 0.12430459 0.12442368 0.12453985]\n",
            "25 day output [[0.12465267]]\n",
            "26 day input [0.06431049 0.07139368 0.07215085 0.07627864 0.08228714 0.08872307\n",
            " 0.08443652 0.09222803 0.08636608 0.092399   0.09156856 0.09322945\n",
            " 0.08900396 0.08995652 0.08614626 0.09195936 0.09293635 0.09213033\n",
            " 0.09015192 0.08990767 0.08497387 0.08761174 0.07615651 0.07676713\n",
            " 0.0807728  0.08192077 0.07371403 0.0714181  0.06374872 0.06912217\n",
            " 0.07517952 0.0722974  0.06882908 0.06843828 0.07483758 0.07024571\n",
            " 0.07432465 0.07383616 0.07371403 0.06987934 0.06824288 0.06743686\n",
            " 0.069342   0.06562943 0.07136925 0.07139368 0.07344536 0.07439793\n",
            " 0.0719066  0.07493527 0.08258024 0.08052855 0.08177422 0.08577988\n",
            " 0.08253139 0.08702555 0.09112891 0.09044502 0.0897367  0.08900396\n",
            " 0.0930829  0.09686874 0.0984075  0.09916467 0.10573494 0.11076645\n",
            " 0.11699477 0.11374628 0.11831371 0.1168238  0.11960823 0.12818133\n",
            " 0.12654487 0.12144009 0.12160447 0.12285003 0.12349275 0.12373167\n",
            " 0.12374306 0.12365123 0.12353091 0.12342063 0.12333674 0.12328386\n",
            " 0.12326121 0.12326622 0.12329578 0.12334687 0.12341645 0.12350152\n",
            " 0.12359921 0.12370661 0.12382104 0.12394005 0.12406148 0.12418349\n",
            " 0.12430459 0.12442368 0.12453985 0.12465267]\n",
            "26 day output [[0.1247618]]\n",
            "27 day input [0.07139368 0.07215085 0.07627864 0.08228714 0.08872307 0.08443652\n",
            " 0.09222803 0.08636608 0.092399   0.09156856 0.09322945 0.08900396\n",
            " 0.08995652 0.08614626 0.09195936 0.09293635 0.09213033 0.09015192\n",
            " 0.08990767 0.08497387 0.08761174 0.07615651 0.07676713 0.0807728\n",
            " 0.08192077 0.07371403 0.0714181  0.06374872 0.06912217 0.07517952\n",
            " 0.0722974  0.06882908 0.06843828 0.07483758 0.07024571 0.07432465\n",
            " 0.07383616 0.07371403 0.06987934 0.06824288 0.06743686 0.069342\n",
            " 0.06562943 0.07136925 0.07139368 0.07344536 0.07439793 0.0719066\n",
            " 0.07493527 0.08258024 0.08052855 0.08177422 0.08577988 0.08253139\n",
            " 0.08702555 0.09112891 0.09044502 0.0897367  0.08900396 0.0930829\n",
            " 0.09686874 0.0984075  0.09916467 0.10573494 0.11076645 0.11699477\n",
            " 0.11374628 0.11831371 0.1168238  0.11960823 0.12818133 0.12654487\n",
            " 0.12144009 0.12160447 0.12285003 0.12349275 0.12373167 0.12374306\n",
            " 0.12365123 0.12353091 0.12342063 0.12333674 0.12328386 0.12326121\n",
            " 0.12326622 0.12329578 0.12334687 0.12341645 0.12350152 0.12359921\n",
            " 0.12370661 0.12382104 0.12394005 0.12406148 0.12418349 0.12430459\n",
            " 0.12442368 0.12453985 0.12465267 0.1247618 ]\n",
            "27 day output [[0.12486711]]\n",
            "28 day input [0.07215085 0.07627864 0.08228714 0.08872307 0.08443652 0.09222803\n",
            " 0.08636608 0.092399   0.09156856 0.09322945 0.08900396 0.08995652\n",
            " 0.08614626 0.09195936 0.09293635 0.09213033 0.09015192 0.08990767\n",
            " 0.08497387 0.08761174 0.07615651 0.07676713 0.0807728  0.08192077\n",
            " 0.07371403 0.0714181  0.06374872 0.06912217 0.07517952 0.0722974\n",
            " 0.06882908 0.06843828 0.07483758 0.07024571 0.07432465 0.07383616\n",
            " 0.07371403 0.06987934 0.06824288 0.06743686 0.069342   0.06562943\n",
            " 0.07136925 0.07139368 0.07344536 0.07439793 0.0719066  0.07493527\n",
            " 0.08258024 0.08052855 0.08177422 0.08577988 0.08253139 0.08702555\n",
            " 0.09112891 0.09044502 0.0897367  0.08900396 0.0930829  0.09686874\n",
            " 0.0984075  0.09916467 0.10573494 0.11076645 0.11699477 0.11374628\n",
            " 0.11831371 0.1168238  0.11960823 0.12818133 0.12654487 0.12144009\n",
            " 0.12160447 0.12285003 0.12349275 0.12373167 0.12374306 0.12365123\n",
            " 0.12353091 0.12342063 0.12333674 0.12328386 0.12326121 0.12326622\n",
            " 0.12329578 0.12334687 0.12341645 0.12350152 0.12359921 0.12370661\n",
            " 0.12382104 0.12394005 0.12406148 0.12418349 0.12430459 0.12442368\n",
            " 0.12453985 0.12465267 0.1247618  0.12486711]\n",
            "28 day output [[0.12496867]]\n",
            "29 day input [0.07627864 0.08228714 0.08872307 0.08443652 0.09222803 0.08636608\n",
            " 0.092399   0.09156856 0.09322945 0.08900396 0.08995652 0.08614626\n",
            " 0.09195936 0.09293635 0.09213033 0.09015192 0.08990767 0.08497387\n",
            " 0.08761174 0.07615651 0.07676713 0.0807728  0.08192077 0.07371403\n",
            " 0.0714181  0.06374872 0.06912217 0.07517952 0.0722974  0.06882908\n",
            " 0.06843828 0.07483758 0.07024571 0.07432465 0.07383616 0.07371403\n",
            " 0.06987934 0.06824288 0.06743686 0.069342   0.06562943 0.07136925\n",
            " 0.07139368 0.07344536 0.07439793 0.0719066  0.07493527 0.08258024\n",
            " 0.08052855 0.08177422 0.08577988 0.08253139 0.08702555 0.09112891\n",
            " 0.09044502 0.0897367  0.08900396 0.0930829  0.09686874 0.0984075\n",
            " 0.09916467 0.10573494 0.11076645 0.11699477 0.11374628 0.11831371\n",
            " 0.1168238  0.11960823 0.12818133 0.12654487 0.12144009 0.12160447\n",
            " 0.12285003 0.12349275 0.12373167 0.12374306 0.12365123 0.12353091\n",
            " 0.12342063 0.12333674 0.12328386 0.12326121 0.12326622 0.12329578\n",
            " 0.12334687 0.12341645 0.12350152 0.12359921 0.12370661 0.12382104\n",
            " 0.12394005 0.12406148 0.12418349 0.12430459 0.12442368 0.12453985\n",
            " 0.12465267 0.1247618  0.12486711 0.12496867]\n",
            "29 day output [[0.12506668]]\n",
            "[[0.12160447239875793], [0.12285003066062927], [0.12349274754524231], [0.12373167276382446], [0.12374306470155716], [0.12365122884511948], [0.12353090941905975], [0.12342062592506409], [0.12333673983812332], [0.12328385561704636], [0.1232612133026123], [0.12326622009277344], [0.12329577654600143], [0.12334687262773514], [0.12341644614934921], [0.12350152432918549], [0.12359920889139175], [0.12370660901069641], [0.12382103502750397], [0.12394005060195923], [0.1240614801645279], [0.12418349087238312], [0.12430458515882492], [0.12442367523908615], [0.12453985214233398], [0.1246526688337326], [0.12476179748773575], [0.12486711144447327], [0.12496867030858994], [0.12506668269634247]]\n"
          ],
          "name": "stdout"
        }
      ]
    },
    {
      "cell_type": "code",
      "metadata": {
        "id": "poxBe_PEPmV5"
      },
      "source": [
        "day_new=np.arange(1,101)\n",
        "day_pred=np.arange(101,131)"
      ],
      "execution_count": null,
      "outputs": []
    },
    {
      "cell_type": "code",
      "metadata": {
        "id": "AbzzolURPmV8"
      },
      "source": [
        "import matplotlib.pyplot as plt"
      ],
      "execution_count": null,
      "outputs": []
    },
    {
      "cell_type": "code",
      "metadata": {
        "colab": {
          "base_uri": "https://localhost:8080/"
        },
        "id": "r0u52FCtPmV9",
        "outputId": "b8ba683b-8241-4b3e-99fc-534bf5dc9b57"
      },
      "source": [
        "len(df1)"
      ],
      "execution_count": null,
      "outputs": [
        {
          "output_type": "execute_result",
          "data": {
            "text/plain": [
              "1258"
            ]
          },
          "metadata": {
            "tags": []
          },
          "execution_count": 49
        }
      ]
    },
    {
      "cell_type": "code",
      "metadata": {
        "id": "Waq5HcN9PmV-"
      },
      "source": [
        ""
      ],
      "execution_count": null,
      "outputs": []
    },
    {
      "cell_type": "code",
      "metadata": {
        "colab": {
          "base_uri": "https://localhost:8080/",
          "height": 282
        },
        "id": "z5ZWf-pOPmV_",
        "outputId": "53e05305-c551-4205-f064-86a20f593b3f"
      },
      "source": [
        "plt.plot(day_new,scaler.inverse_transform(df1[1158:]))\n",
        "plt.plot(day_pred,scaler.inverse_transform(lst_output))"
      ],
      "execution_count": null,
      "outputs": [
        {
          "output_type": "execute_result",
          "data": {
            "text/plain": [
              "[<matplotlib.lines.Line2D at 0x7fe279066310>]"
            ]
          },
          "metadata": {
            "tags": []
          },
          "execution_count": 50
        },
        {
          "output_type": "display_data",
          "data": {
            "image/png": "[encoded data removed]",
            "text/plain": [
              "<Figure size 432x288 with 1 Axes>"
            ]
          },
          "metadata": {
            "tags": [],
            "needs_background": "light"
          }
        }
      ]
    },
    {
      "cell_type": "code",
      "metadata": {
        "colab": {
          "base_uri": "https://localhost:8080/",
          "height": 282
        },
        "id": "-KuVqT3jPmWA",
        "outputId": "cedf6470-8226-4ac9-d8e8-c432180dbdc5"
      },
      "source": [
        "df3=df1.tolist()\n",
        "df3.extend(lst_output)\n",
        "plt.plot(df3[1200:])"
      ],
      "execution_count": null,
      "outputs": [
        {
          "output_type": "execute_result",
          "data": {
            "text/plain": [
              "[<matplotlib.lines.Line2D at 0x7fe2797df210>]"
            ]
          },
          "metadata": {
            "tags": []
          },
          "execution_count": 51
        },
        {
          "output_type": "display_data",
          "data": {
            "image/png": "[encoded data removed]",
            "text/plain": [
              "<Figure size 432x288 with 1 Axes>"
            ]
          },
          "metadata": {
            "tags": [],
            "needs_background": "light"
          }
        }
      ]
    },
    {
      "cell_type": "code",
      "metadata": {
        "id": "L9fJCTYKPmWA"
      },
      "source": [
        "df3=scaler.inverse_transform(df3).tolist()"
      ],
      "execution_count": null,
      "outputs": []
    },
    {
      "cell_type": "code",
      "metadata": {
        "colab": {
          "base_uri": "https://localhost:8080/",
          "height": 282
        },
        "id": "ooSJEtpoPmWB",
        "outputId": "49650003-03a6-4932-e77f-147bf2106f5e"
      },
      "source": [
        "plt.plot(df3)"
      ],
      "execution_count": null,
      "outputs": [
        {
          "output_type": "execute_result",
          "data": {
            "text/plain": [
              "[<matplotlib.lines.Line2D at 0x7fe279778090>]"
            ]
          },
          "metadata": {
            "tags": []
          },
          "execution_count": 53
        },
        {
          "output_type": "display_data",
          "data": {
            "image/png": "[encoded data removed]",
            "text/plain": [
              "<Figure size 432x288 with 1 Axes>"
            ]
          },
          "metadata": {
            "tags": [],
            "needs_background": "light"
          }
        }
      ]
    },
    {
      "cell_type": "code",
      "metadata": {
        "id": "2uDXo7yGPmWC"
      },
      "source": [
        ""
      ],
      "execution_count": null,
      "outputs": []
    }
  ]
}